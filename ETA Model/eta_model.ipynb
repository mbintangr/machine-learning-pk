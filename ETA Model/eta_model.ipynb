{
 "cells": [
  {
   "cell_type": "markdown",
   "id": "bd06992e",
   "metadata": {},
   "source": [
    "# Estimated Time Arrival"
   ]
  },
  {
   "cell_type": "markdown",
   "id": "f42ec269",
   "metadata": {},
   "source": [
    "## Import Required Libraries"
   ]
  },
  {
   "cell_type": "code",
   "execution_count": 1,
   "id": "095de404",
   "metadata": {},
   "outputs": [],
   "source": [
    "import pandas as pd\n",
    "import numpy as np\n",
    "import tensorflow as tf\n",
    "from sklearn.model_selection import train_test_split\n",
    "from sklearn.preprocessing import StandardScaler"
   ]
  },
  {
   "cell_type": "markdown",
   "id": "b7d2e6f0",
   "metadata": {},
   "source": [
    "## Preprocessing"
   ]
  },
  {
   "cell_type": "markdown",
   "id": "5ae3fc9d",
   "metadata": {},
   "source": [
    "### Load Datasets"
   ]
  },
  {
   "cell_type": "code",
   "execution_count": 2,
   "id": "4e96abc6",
   "metadata": {},
   "outputs": [
    {
     "data": {
      "text/html": [
       "<div>\n",
       "<style scoped>\n",
       "    .dataframe tbody tr th:only-of-type {\n",
       "        vertical-align: middle;\n",
       "    }\n",
       "\n",
       "    .dataframe tbody tr th {\n",
       "        vertical-align: top;\n",
       "    }\n",
       "\n",
       "    .dataframe thead th {\n",
       "        text-align: right;\n",
       "    }\n",
       "</style>\n",
       "<table border=\"1\" class=\"dataframe\">\n",
       "  <thead>\n",
       "    <tr style=\"text-align: right;\">\n",
       "      <th></th>\n",
       "      <th>lat_origin</th>\n",
       "      <th>long_origin</th>\n",
       "      <th>lat_destination</th>\n",
       "      <th>long_destination</th>\n",
       "      <th>Jarak</th>\n",
       "      <th>Waktu Tempuh</th>\n",
       "      <th>Waktu Penulisan</th>\n",
       "      <th>Link</th>\n",
       "    </tr>\n",
       "  </thead>\n",
       "  <tbody>\n",
       "    <tr>\n",
       "      <th>0</th>\n",
       "      <td>-6.395965</td>\n",
       "      <td>106.897527</td>\n",
       "      <td>-6.444471</td>\n",
       "      <td>106.72434</td>\n",
       "      <td>40,6 km</td>\n",
       "      <td>1 jam 2 mnt</td>\n",
       "      <td>2025-03-20 10:06:55</td>\n",
       "      <td>https://www.google.com/maps/dir/'-6.395965,106...</td>\n",
       "    </tr>\n",
       "    <tr>\n",
       "      <th>1</th>\n",
       "      <td>-6.395965</td>\n",
       "      <td>106.897527</td>\n",
       "      <td>-6.444471</td>\n",
       "      <td>106.72434</td>\n",
       "      <td>50,0 km</td>\n",
       "      <td>1 jam 2 mnt</td>\n",
       "      <td>2025-03-20 10:06:56</td>\n",
       "      <td>https://www.google.com/maps/dir/'-6.395965,106...</td>\n",
       "    </tr>\n",
       "    <tr>\n",
       "      <th>2</th>\n",
       "      <td>-6.395965</td>\n",
       "      <td>106.897527</td>\n",
       "      <td>-6.16938</td>\n",
       "      <td>106.609849</td>\n",
       "      <td>55,6 km</td>\n",
       "      <td>1 jam 4 mnt</td>\n",
       "      <td>2025-03-20 10:07:16</td>\n",
       "      <td>https://www.google.com/maps/dir/'-6.395965,106...</td>\n",
       "    </tr>\n",
       "    <tr>\n",
       "      <th>3</th>\n",
       "      <td>-6.395965</td>\n",
       "      <td>106.897527</td>\n",
       "      <td>-6.16938</td>\n",
       "      <td>106.609849</td>\n",
       "      <td>55,6 km</td>\n",
       "      <td>1 jam 6 mnt</td>\n",
       "      <td>2025-03-20 10:07:16</td>\n",
       "      <td>https://www.google.com/maps/dir/'-6.395965,106...</td>\n",
       "    </tr>\n",
       "    <tr>\n",
       "      <th>4</th>\n",
       "      <td>-6.395965</td>\n",
       "      <td>106.897527</td>\n",
       "      <td>-6.245515</td>\n",
       "      <td>106.963095</td>\n",
       "      <td>28,1 km</td>\n",
       "      <td>40 mnt</td>\n",
       "      <td>2025-03-20 10:07:36</td>\n",
       "      <td>https://www.google.com/maps/dir/'-6.395965,106...</td>\n",
       "    </tr>\n",
       "  </tbody>\n",
       "</table>\n",
       "</div>"
      ],
      "text/plain": [
       "  lat_origin long_origin lat_destination long_destination    Jarak  \\\n",
       "0  -6.395965  106.897527       -6.444471        106.72434  40,6 km   \n",
       "1  -6.395965  106.897527       -6.444471        106.72434  50,0 km   \n",
       "2  -6.395965  106.897527        -6.16938       106.609849  55,6 km   \n",
       "3  -6.395965  106.897527        -6.16938       106.609849  55,6 km   \n",
       "4  -6.395965  106.897527       -6.245515       106.963095  28,1 km   \n",
       "\n",
       "  Waktu Tempuh      Waktu Penulisan  \\\n",
       "0  1 jam 2 mnt  2025-03-20 10:06:55   \n",
       "1  1 jam 2 mnt  2025-03-20 10:06:56   \n",
       "2  1 jam 4 mnt  2025-03-20 10:07:16   \n",
       "3  1 jam 6 mnt  2025-03-20 10:07:16   \n",
       "4       40 mnt  2025-03-20 10:07:36   \n",
       "\n",
       "                                                Link  \n",
       "0  https://www.google.com/maps/dir/'-6.395965,106...  \n",
       "1  https://www.google.com/maps/dir/'-6.395965,106...  \n",
       "2  https://www.google.com/maps/dir/'-6.395965,106...  \n",
       "3  https://www.google.com/maps/dir/'-6.395965,106...  \n",
       "4  https://www.google.com/maps/dir/'-6.395965,106...  "
      ]
     },
     "execution_count": 2,
     "metadata": {},
     "output_type": "execute_result"
    }
   ],
   "source": [
    "from_warehouse_df = pd.read_csv('../Datasets/results-fromwarehouse.csv')\n",
    "from_warehouse_df.head()"
   ]
  },
  {
   "cell_type": "code",
   "execution_count": 3,
   "id": "64517346",
   "metadata": {},
   "outputs": [
    {
     "data": {
      "text/html": [
       "<div>\n",
       "<style scoped>\n",
       "    .dataframe tbody tr th:only-of-type {\n",
       "        vertical-align: middle;\n",
       "    }\n",
       "\n",
       "    .dataframe tbody tr th {\n",
       "        vertical-align: top;\n",
       "    }\n",
       "\n",
       "    .dataframe thead th {\n",
       "        text-align: right;\n",
       "    }\n",
       "</style>\n",
       "<table border=\"1\" class=\"dataframe\">\n",
       "  <thead>\n",
       "    <tr style=\"text-align: right;\">\n",
       "      <th></th>\n",
       "      <th>lat_origin</th>\n",
       "      <th>long_origin</th>\n",
       "      <th>lat_destination</th>\n",
       "      <th>long_destination</th>\n",
       "      <th>Jarak</th>\n",
       "      <th>Waktu Tempuh</th>\n",
       "      <th>Waktu Penulisan</th>\n",
       "      <th>Link</th>\n",
       "    </tr>\n",
       "  </thead>\n",
       "  <tbody>\n",
       "    <tr>\n",
       "      <th>0</th>\n",
       "      <td>lat_origin</td>\n",
       "      <td>long_origin</td>\n",
       "      <td>lat_destination</td>\n",
       "      <td>long_destination</td>\n",
       "      <td>Jarak</td>\n",
       "      <td>Waktu Tempuh</td>\n",
       "      <td>Waktu Penulisan</td>\n",
       "      <td>Link</td>\n",
       "    </tr>\n",
       "    <tr>\n",
       "      <th>1</th>\n",
       "      <td>-6.403632</td>\n",
       "      <td>106.875937</td>\n",
       "      <td>-6.47717</td>\n",
       "      <td>106.860436</td>\n",
       "      <td>11,5 km</td>\n",
       "      <td>29 mnt</td>\n",
       "      <td>2025-03-20 10:00:20</td>\n",
       "      <td>https://www.google.com/maps/dir/'-6.403632,106...</td>\n",
       "    </tr>\n",
       "    <tr>\n",
       "      <th>2</th>\n",
       "      <td>-6.403632</td>\n",
       "      <td>106.875937</td>\n",
       "      <td>-6.47717</td>\n",
       "      <td>106.860436</td>\n",
       "      <td>15,7 km</td>\n",
       "      <td>29 mnt</td>\n",
       "      <td>2025-03-20 10:00:21</td>\n",
       "      <td>https://www.google.com/maps/dir/'-6.403632,106...</td>\n",
       "    </tr>\n",
       "    <tr>\n",
       "      <th>3</th>\n",
       "      <td>-6.277224</td>\n",
       "      <td>106.830669</td>\n",
       "      <td>-6.227915</td>\n",
       "      <td>106.969559</td>\n",
       "      <td>27,4 km</td>\n",
       "      <td>47 mnt</td>\n",
       "      <td>2025-03-20 10:00:38</td>\n",
       "      <td>https://www.google.com/maps/dir/'-6.277224,106...</td>\n",
       "    </tr>\n",
       "    <tr>\n",
       "      <th>4</th>\n",
       "      <td>-6.277224</td>\n",
       "      <td>106.830669</td>\n",
       "      <td>-6.227915</td>\n",
       "      <td>106.969559</td>\n",
       "      <td>27,2 km</td>\n",
       "      <td>49 mnt</td>\n",
       "      <td>2025-03-20 10:00:38</td>\n",
       "      <td>https://www.google.com/maps/dir/'-6.277224,106...</td>\n",
       "    </tr>\n",
       "  </tbody>\n",
       "</table>\n",
       "</div>"
      ],
      "text/plain": [
       "   lat_origin  long_origin  lat_destination  long_destination    Jarak  \\\n",
       "0  lat_origin  long_origin  lat_destination  long_destination    Jarak   \n",
       "1   -6.403632   106.875937         -6.47717        106.860436  11,5 km   \n",
       "2   -6.403632   106.875937         -6.47717        106.860436  15,7 km   \n",
       "3   -6.277224   106.830669        -6.227915        106.969559  27,4 km   \n",
       "4   -6.277224   106.830669        -6.227915        106.969559  27,2 km   \n",
       "\n",
       "   Waktu Tempuh      Waktu Penulisan  \\\n",
       "0  Waktu Tempuh      Waktu Penulisan   \n",
       "1        29 mnt  2025-03-20 10:00:20   \n",
       "2        29 mnt  2025-03-20 10:00:21   \n",
       "3        47 mnt  2025-03-20 10:00:38   \n",
       "4        49 mnt  2025-03-20 10:00:38   \n",
       "\n",
       "                                                Link  \n",
       "0                                               Link  \n",
       "1  https://www.google.com/maps/dir/'-6.403632,106...  \n",
       "2  https://www.google.com/maps/dir/'-6.403632,106...  \n",
       "3  https://www.google.com/maps/dir/'-6.277224,106...  \n",
       "4  https://www.google.com/maps/dir/'-6.277224,106...  "
      ]
     },
     "execution_count": 3,
     "metadata": {},
     "output_type": "execute_result"
    }
   ],
   "source": [
    "random_location_df = pd.read_csv('../Datasets/results-allrandom.csv')\n",
    "random_location_df.head()"
   ]
  },
  {
   "cell_type": "markdown",
   "id": "d7ae1d6d",
   "metadata": {},
   "source": [
    "### Check the Dataset Stats"
   ]
  },
  {
   "cell_type": "markdown",
   "id": "e3eaf944",
   "metadata": {},
   "source": [
    "#### from_warehouse_df"
   ]
  },
  {
   "cell_type": "code",
   "execution_count": 4,
   "id": "ba2986b6",
   "metadata": {},
   "outputs": [
    {
     "data": {
      "text/html": [
       "<div>\n",
       "<style scoped>\n",
       "    .dataframe tbody tr th:only-of-type {\n",
       "        vertical-align: middle;\n",
       "    }\n",
       "\n",
       "    .dataframe tbody tr th {\n",
       "        vertical-align: top;\n",
       "    }\n",
       "\n",
       "    .dataframe thead th {\n",
       "        text-align: right;\n",
       "    }\n",
       "</style>\n",
       "<table border=\"1\" class=\"dataframe\">\n",
       "  <thead>\n",
       "    <tr style=\"text-align: right;\">\n",
       "      <th></th>\n",
       "      <th>lat_origin</th>\n",
       "      <th>long_origin</th>\n",
       "      <th>lat_destination</th>\n",
       "      <th>long_destination</th>\n",
       "      <th>Jarak</th>\n",
       "      <th>Waktu Tempuh</th>\n",
       "      <th>Waktu Penulisan</th>\n",
       "      <th>Link</th>\n",
       "    </tr>\n",
       "  </thead>\n",
       "  <tbody>\n",
       "    <tr>\n",
       "      <th>count</th>\n",
       "      <td>45901</td>\n",
       "      <td>45901</td>\n",
       "      <td>45901</td>\n",
       "      <td>45901</td>\n",
       "      <td>45901</td>\n",
       "      <td>45901</td>\n",
       "      <td>45901</td>\n",
       "      <td>45901</td>\n",
       "    </tr>\n",
       "    <tr>\n",
       "      <th>unique</th>\n",
       "      <td>2</td>\n",
       "      <td>2</td>\n",
       "      <td>24270</td>\n",
       "      <td>24265</td>\n",
       "      <td>694</td>\n",
       "      <td>146</td>\n",
       "      <td>34308</td>\n",
       "      <td>27689</td>\n",
       "    </tr>\n",
       "    <tr>\n",
       "      <th>top</th>\n",
       "      <td>-6.395965</td>\n",
       "      <td>106.897527</td>\n",
       "      <td>lat_destination</td>\n",
       "      <td>long_destination</td>\n",
       "      <td>Jarak</td>\n",
       "      <td>48 mnt</td>\n",
       "      <td>Waktu Penulisan</td>\n",
       "      <td>Link</td>\n",
       "    </tr>\n",
       "    <tr>\n",
       "      <th>freq</th>\n",
       "      <td>45668</td>\n",
       "      <td>45668</td>\n",
       "      <td>233</td>\n",
       "      <td>233</td>\n",
       "      <td>233</td>\n",
       "      <td>1316</td>\n",
       "      <td>233</td>\n",
       "      <td>233</td>\n",
       "    </tr>\n",
       "  </tbody>\n",
       "</table>\n",
       "</div>"
      ],
      "text/plain": [
       "       lat_origin long_origin  lat_destination  long_destination  Jarak  \\\n",
       "count       45901       45901            45901             45901  45901   \n",
       "unique          2           2            24270             24265    694   \n",
       "top     -6.395965  106.897527  lat_destination  long_destination  Jarak   \n",
       "freq        45668       45668              233               233    233   \n",
       "\n",
       "       Waktu Tempuh  Waktu Penulisan   Link  \n",
       "count         45901            45901  45901  \n",
       "unique          146            34308  27689  \n",
       "top          48 mnt  Waktu Penulisan   Link  \n",
       "freq           1316              233    233  "
      ]
     },
     "execution_count": 4,
     "metadata": {},
     "output_type": "execute_result"
    }
   ],
   "source": [
    "from_warehouse_df.describe()"
   ]
  },
  {
   "cell_type": "code",
   "execution_count": 5,
   "id": "7e3e8d01",
   "metadata": {},
   "outputs": [
    {
     "name": "stdout",
     "output_type": "stream",
     "text": [
      "<class 'pandas.core.frame.DataFrame'>\n",
      "RangeIndex: 45901 entries, 0 to 45900\n",
      "Data columns (total 8 columns):\n",
      " #   Column            Non-Null Count  Dtype \n",
      "---  ------            --------------  ----- \n",
      " 0   lat_origin        45901 non-null  object\n",
      " 1   long_origin       45901 non-null  object\n",
      " 2   lat_destination   45901 non-null  object\n",
      " 3   long_destination  45901 non-null  object\n",
      " 4   Jarak             45901 non-null  object\n",
      " 5   Waktu Tempuh      45901 non-null  object\n",
      " 6   Waktu Penulisan   45901 non-null  object\n",
      " 7   Link              45901 non-null  object\n",
      "dtypes: object(8)\n",
      "memory usage: 2.8+ MB\n"
     ]
    }
   ],
   "source": [
    "from_warehouse_df.info()"
   ]
  },
  {
   "cell_type": "markdown",
   "id": "676d4f2b",
   "metadata": {},
   "source": [
    "#### random_location_df"
   ]
  },
  {
   "cell_type": "code",
   "execution_count": 6,
   "id": "4f9deed8",
   "metadata": {},
   "outputs": [
    {
     "data": {
      "text/html": [
       "<div>\n",
       "<style scoped>\n",
       "    .dataframe tbody tr th:only-of-type {\n",
       "        vertical-align: middle;\n",
       "    }\n",
       "\n",
       "    .dataframe tbody tr th {\n",
       "        vertical-align: top;\n",
       "    }\n",
       "\n",
       "    .dataframe thead th {\n",
       "        text-align: right;\n",
       "    }\n",
       "</style>\n",
       "<table border=\"1\" class=\"dataframe\">\n",
       "  <thead>\n",
       "    <tr style=\"text-align: right;\">\n",
       "      <th></th>\n",
       "      <th>lat_origin</th>\n",
       "      <th>long_origin</th>\n",
       "      <th>lat_destination</th>\n",
       "      <th>long_destination</th>\n",
       "      <th>Jarak</th>\n",
       "      <th>Waktu Tempuh</th>\n",
       "      <th>Waktu Penulisan</th>\n",
       "      <th>Link</th>\n",
       "    </tr>\n",
       "  </thead>\n",
       "  <tbody>\n",
       "    <tr>\n",
       "      <th>count</th>\n",
       "      <td>47616</td>\n",
       "      <td>47616</td>\n",
       "      <td>47616</td>\n",
       "      <td>47616</td>\n",
       "      <td>47616</td>\n",
       "      <td>47616</td>\n",
       "      <td>47616</td>\n",
       "      <td>47616</td>\n",
       "    </tr>\n",
       "    <tr>\n",
       "      <th>unique</th>\n",
       "      <td>24388</td>\n",
       "      <td>24312</td>\n",
       "      <td>24411</td>\n",
       "      <td>24447</td>\n",
       "      <td>947</td>\n",
       "      <td>180</td>\n",
       "      <td>34958</td>\n",
       "      <td>28112</td>\n",
       "    </tr>\n",
       "    <tr>\n",
       "      <th>top</th>\n",
       "      <td>lat_origin</td>\n",
       "      <td>long_origin</td>\n",
       "      <td>lat_destination</td>\n",
       "      <td>long_destination</td>\n",
       "      <td>Jarak</td>\n",
       "      <td>51 mnt</td>\n",
       "      <td>Waktu Penulisan</td>\n",
       "      <td>Link</td>\n",
       "    </tr>\n",
       "    <tr>\n",
       "      <th>freq</th>\n",
       "      <td>234</td>\n",
       "      <td>234</td>\n",
       "      <td>234</td>\n",
       "      <td>234</td>\n",
       "      <td>234</td>\n",
       "      <td>952</td>\n",
       "      <td>234</td>\n",
       "      <td>234</td>\n",
       "    </tr>\n",
       "  </tbody>\n",
       "</table>\n",
       "</div>"
      ],
      "text/plain": [
       "        lat_origin  long_origin  lat_destination  long_destination  Jarak  \\\n",
       "count        47616        47616            47616             47616  47616   \n",
       "unique       24388        24312            24411             24447    947   \n",
       "top     lat_origin  long_origin  lat_destination  long_destination  Jarak   \n",
       "freq           234          234              234               234    234   \n",
       "\n",
       "       Waktu Tempuh  Waktu Penulisan   Link  \n",
       "count         47616            47616  47616  \n",
       "unique          180            34958  28112  \n",
       "top          51 mnt  Waktu Penulisan   Link  \n",
       "freq            952              234    234  "
      ]
     },
     "execution_count": 6,
     "metadata": {},
     "output_type": "execute_result"
    }
   ],
   "source": [
    "random_location_df.describe()"
   ]
  },
  {
   "cell_type": "code",
   "execution_count": 7,
   "id": "4b76051e",
   "metadata": {},
   "outputs": [
    {
     "name": "stdout",
     "output_type": "stream",
     "text": [
      "<class 'pandas.core.frame.DataFrame'>\n",
      "RangeIndex: 47616 entries, 0 to 47615\n",
      "Data columns (total 8 columns):\n",
      " #   Column            Non-Null Count  Dtype \n",
      "---  ------            --------------  ----- \n",
      " 0   lat_origin        47616 non-null  object\n",
      " 1   long_origin       47616 non-null  object\n",
      " 2   lat_destination   47616 non-null  object\n",
      " 3   long_destination  47616 non-null  object\n",
      " 4   Jarak             47616 non-null  object\n",
      " 5   Waktu Tempuh      47616 non-null  object\n",
      " 6   Waktu Penulisan   47616 non-null  object\n",
      " 7   Link              47616 non-null  object\n",
      "dtypes: object(8)\n",
      "memory usage: 2.9+ MB\n"
     ]
    }
   ],
   "source": [
    "random_location_df.info()"
   ]
  },
  {
   "cell_type": "markdown",
   "id": "503f9869",
   "metadata": {},
   "source": [
    "### Data Cleaning"
   ]
  },
  {
   "cell_type": "markdown",
   "id": "f9035aef",
   "metadata": {},
   "source": [
    "#### Change Columns Name"
   ]
  },
  {
   "cell_type": "code",
   "execution_count": 8,
   "id": "552b8221",
   "metadata": {},
   "outputs": [
    {
     "name": "stdout",
     "output_type": "stream",
     "text": [
      "<class 'pandas.core.frame.DataFrame'>\n",
      "RangeIndex: 45901 entries, 0 to 45900\n",
      "Data columns (total 8 columns):\n",
      " #   Column     Non-Null Count  Dtype \n",
      "---  ------     --------------  ----- \n",
      " 0   lat_ori    45901 non-null  object\n",
      " 1   long_ori   45901 non-null  object\n",
      " 2   lat_dest   45901 non-null  object\n",
      " 3   long_dest  45901 non-null  object\n",
      " 4   distance   45901 non-null  object\n",
      " 5   eta        45901 non-null  object\n",
      " 6   timestamp  45901 non-null  object\n",
      " 7   link       45901 non-null  object\n",
      "dtypes: object(8)\n",
      "memory usage: 2.8+ MB\n"
     ]
    }
   ],
   "source": [
    "from_warehouse_df.columns = ['lat_ori', 'long_ori', 'lat_dest', 'long_dest', 'distance', 'eta', 'timestamp', 'link']\n",
    "from_warehouse_df.info()"
   ]
  },
  {
   "cell_type": "code",
   "execution_count": 9,
   "id": "d9f2df23",
   "metadata": {},
   "outputs": [
    {
     "name": "stdout",
     "output_type": "stream",
     "text": [
      "<class 'pandas.core.frame.DataFrame'>\n",
      "RangeIndex: 47616 entries, 0 to 47615\n",
      "Data columns (total 8 columns):\n",
      " #   Column     Non-Null Count  Dtype \n",
      "---  ------     --------------  ----- \n",
      " 0   lat_ori    47616 non-null  object\n",
      " 1   long_ori   47616 non-null  object\n",
      " 2   lat_dest   47616 non-null  object\n",
      " 3   long_dest  47616 non-null  object\n",
      " 4   distance   47616 non-null  object\n",
      " 5   eta        47616 non-null  object\n",
      " 6   timestamp  47616 non-null  object\n",
      " 7   link       47616 non-null  object\n",
      "dtypes: object(8)\n",
      "memory usage: 2.9+ MB\n"
     ]
    }
   ],
   "source": [
    "random_location_df.columns = ['lat_ori', 'long_ori', 'lat_dest', 'long_dest', 'distance', 'eta', 'timestamp', 'link']\n",
    "random_location_df.info()"
   ]
  },
  {
   "cell_type": "markdown",
   "id": "b7b1d07b",
   "metadata": {},
   "source": [
    "#### Remove Unused Columns"
   ]
  },
  {
   "cell_type": "code",
   "execution_count": 10,
   "id": "c3cc5f9c",
   "metadata": {},
   "outputs": [
    {
     "name": "stdout",
     "output_type": "stream",
     "text": [
      "<class 'pandas.core.frame.DataFrame'>\n",
      "RangeIndex: 45901 entries, 0 to 45900\n",
      "Data columns (total 7 columns):\n",
      " #   Column     Non-Null Count  Dtype \n",
      "---  ------     --------------  ----- \n",
      " 0   lat_ori    45901 non-null  object\n",
      " 1   long_ori   45901 non-null  object\n",
      " 2   lat_dest   45901 non-null  object\n",
      " 3   long_dest  45901 non-null  object\n",
      " 4   distance   45901 non-null  object\n",
      " 5   eta        45901 non-null  object\n",
      " 6   timestamp  45901 non-null  object\n",
      "dtypes: object(7)\n",
      "memory usage: 2.5+ MB\n",
      "<class 'pandas.core.frame.DataFrame'>\n",
      "RangeIndex: 47616 entries, 0 to 47615\n",
      "Data columns (total 7 columns):\n",
      " #   Column     Non-Null Count  Dtype \n",
      "---  ------     --------------  ----- \n",
      " 0   lat_ori    47616 non-null  object\n",
      " 1   long_ori   47616 non-null  object\n",
      " 2   lat_dest   47616 non-null  object\n",
      " 3   long_dest  47616 non-null  object\n",
      " 4   distance   47616 non-null  object\n",
      " 5   eta        47616 non-null  object\n",
      " 6   timestamp  47616 non-null  object\n",
      "dtypes: object(7)\n",
      "memory usage: 2.5+ MB\n"
     ]
    }
   ],
   "source": [
    "from_warehouse_df.drop('link', axis=1, inplace=True)\n",
    "random_location_df.drop('link', axis=1, inplace=True)\n",
    "\n",
    "from_warehouse_df.info()\n",
    "random_location_df.info()"
   ]
  },
  {
   "cell_type": "markdown",
   "id": "0e166351",
   "metadata": {},
   "source": [
    "#### Remove Unused Rows"
   ]
  },
  {
   "cell_type": "code",
   "execution_count": 11,
   "id": "89f5c5c1",
   "metadata": {},
   "outputs": [
    {
     "name": "stdout",
     "output_type": "stream",
     "text": [
      "<class 'pandas.core.frame.DataFrame'>\n",
      "Index: 45667 entries, 0 to 45900\n",
      "Data columns (total 7 columns):\n",
      " #   Column     Non-Null Count  Dtype \n",
      "---  ------     --------------  ----- \n",
      " 0   lat_ori    45667 non-null  object\n",
      " 1   long_ori   45667 non-null  object\n",
      " 2   lat_dest   45667 non-null  object\n",
      " 3   long_dest  45667 non-null  object\n",
      " 4   distance   45667 non-null  object\n",
      " 5   eta        45667 non-null  object\n",
      " 6   timestamp  45667 non-null  object\n",
      "dtypes: object(7)\n",
      "memory usage: 2.8+ MB\n"
     ]
    }
   ],
   "source": [
    "from_warehouse_df = from_warehouse_df[from_warehouse_df.lat_ori != 'lat_origin']\n",
    "from_warehouse_df = from_warehouse_df[from_warehouse_df.long_ori != 'long_origin']\n",
    "from_warehouse_df = from_warehouse_df[from_warehouse_df.lat_dest != 'lat_destination']\n",
    "from_warehouse_df = from_warehouse_df[from_warehouse_df.long_dest != 'long_destination']\n",
    "from_warehouse_df = from_warehouse_df[from_warehouse_df.distance != 'Jarak']\n",
    "from_warehouse_df = from_warehouse_df[from_warehouse_df.distance != 'Data tidak tersedia']\n",
    "from_warehouse_df = from_warehouse_df[from_warehouse_df.eta != 'Waktu Tempuh']\n",
    "from_warehouse_df = from_warehouse_df[from_warehouse_df.timestamp != 'Waktu Penulisan']\n",
    "\n",
    "from_warehouse_df.info()"
   ]
  },
  {
   "cell_type": "code",
   "execution_count": 12,
   "id": "929ea1bd",
   "metadata": {},
   "outputs": [
    {
     "name": "stdout",
     "output_type": "stream",
     "text": [
      "<class 'pandas.core.frame.DataFrame'>\n",
      "Index: 47379 entries, 1 to 47615\n",
      "Data columns (total 7 columns):\n",
      " #   Column     Non-Null Count  Dtype \n",
      "---  ------     --------------  ----- \n",
      " 0   lat_ori    47379 non-null  object\n",
      " 1   long_ori   47379 non-null  object\n",
      " 2   lat_dest   47379 non-null  object\n",
      " 3   long_dest  47379 non-null  object\n",
      " 4   distance   47379 non-null  object\n",
      " 5   eta        47379 non-null  object\n",
      " 6   timestamp  47379 non-null  object\n",
      "dtypes: object(7)\n",
      "memory usage: 2.9+ MB\n"
     ]
    }
   ],
   "source": [
    "random_location_df = random_location_df[random_location_df.lat_ori != 'lat_origin']\n",
    "random_location_df = random_location_df[random_location_df.long_ori != 'long_origin']\n",
    "random_location_df = random_location_df[random_location_df.lat_dest != 'lat_destination']\n",
    "random_location_df = random_location_df[random_location_df.long_dest != 'long_destination']\n",
    "random_location_df = random_location_df[random_location_df.distance != 'Jarak']\n",
    "random_location_df = random_location_df[random_location_df.distance != 'Data tidak tersedia']\n",
    "random_location_df = random_location_df[random_location_df.eta != 'Waktu Tempuh']\n",
    "random_location_df = random_location_df[random_location_df.timestamp != 'Waktu Penulisan']\n",
    "\n",
    "random_location_df.info()"
   ]
  },
  {
   "cell_type": "markdown",
   "id": "ddfe4eaa",
   "metadata": {},
   "source": [
    "#### Change the Data Types"
   ]
  },
  {
   "cell_type": "code",
   "execution_count": 13,
   "id": "f3fae54f",
   "metadata": {},
   "outputs": [
    {
     "name": "stdout",
     "output_type": "stream",
     "text": [
      "<class 'pandas.core.frame.DataFrame'>\n",
      "Index: 45667 entries, 0 to 45900\n",
      "Data columns (total 7 columns):\n",
      " #   Column     Non-Null Count  Dtype  \n",
      "---  ------     --------------  -----  \n",
      " 0   lat_ori    45667 non-null  float64\n",
      " 1   long_ori   45667 non-null  float64\n",
      " 2   lat_dest   45667 non-null  float64\n",
      " 3   long_dest  45667 non-null  float64\n",
      " 4   distance   45667 non-null  object \n",
      " 5   eta        45667 non-null  object \n",
      " 6   timestamp  45667 non-null  object \n",
      "dtypes: float64(4), object(3)\n",
      "memory usage: 2.8+ MB\n"
     ]
    }
   ],
   "source": [
    "from_warehouse_df.lat_ori = pd.to_numeric(from_warehouse_df.lat_ori)\n",
    "from_warehouse_df.long_ori = pd.to_numeric(from_warehouse_df.long_ori)\n",
    "from_warehouse_df.lat_dest = pd.to_numeric(from_warehouse_df.lat_dest)\n",
    "from_warehouse_df.long_dest = pd.to_numeric(from_warehouse_df.long_dest)\n",
    "\n",
    "from_warehouse_df.info()"
   ]
  },
  {
   "cell_type": "code",
   "execution_count": 14,
   "id": "dc9aed4c",
   "metadata": {},
   "outputs": [
    {
     "name": "stdout",
     "output_type": "stream",
     "text": [
      "<class 'pandas.core.frame.DataFrame'>\n",
      "Index: 47379 entries, 1 to 47615\n",
      "Data columns (total 7 columns):\n",
      " #   Column     Non-Null Count  Dtype  \n",
      "---  ------     --------------  -----  \n",
      " 0   lat_ori    47379 non-null  float64\n",
      " 1   long_ori   47379 non-null  float64\n",
      " 2   lat_dest   47379 non-null  float64\n",
      " 3   long_dest  47379 non-null  float64\n",
      " 4   distance   47379 non-null  object \n",
      " 5   eta        47379 non-null  object \n",
      " 6   timestamp  47379 non-null  object \n",
      "dtypes: float64(4), object(3)\n",
      "memory usage: 2.9+ MB\n"
     ]
    }
   ],
   "source": [
    "random_location_df.lat_ori = pd.to_numeric(random_location_df.lat_ori)\n",
    "random_location_df.long_ori = pd.to_numeric(random_location_df.long_ori)\n",
    "random_location_df.lat_dest = pd.to_numeric(random_location_df.lat_dest)\n",
    "random_location_df.long_dest = pd.to_numeric(random_location_df.long_dest)\n",
    "\n",
    "random_location_df.info()"
   ]
  },
  {
   "cell_type": "code",
   "execution_count": 15,
   "id": "a58e479a",
   "metadata": {},
   "outputs": [],
   "source": [
    "from_warehouse_df.distance = from_warehouse_df.distance.str.replace(' km', '')\n",
    "random_location_df.distance = random_location_df.distance.str.replace(' km', '')\n",
    "from_warehouse_df.distance = from_warehouse_df.distance.str.replace(' m', '')\n",
    "random_location_df.distance = random_location_df.distance.str.replace(' m', '')\n",
    "from_warehouse_df.distance = from_warehouse_df.distance.str.replace(',', '.')\n",
    "random_location_df.distance = random_location_df.distance.str.replace(',', '.')"
   ]
  },
  {
   "cell_type": "code",
   "execution_count": 16,
   "id": "92417479",
   "metadata": {},
   "outputs": [
    {
     "name": "stdout",
     "output_type": "stream",
     "text": [
      "<class 'pandas.core.frame.DataFrame'>\n",
      "Index: 45667 entries, 0 to 45900\n",
      "Data columns (total 7 columns):\n",
      " #   Column     Non-Null Count  Dtype  \n",
      "---  ------     --------------  -----  \n",
      " 0   lat_ori    45667 non-null  float64\n",
      " 1   long_ori   45667 non-null  float64\n",
      " 2   lat_dest   45667 non-null  float64\n",
      " 3   long_dest  45667 non-null  float64\n",
      " 4   distance   45667 non-null  float64\n",
      " 5   eta        45667 non-null  object \n",
      " 6   timestamp  45667 non-null  object \n",
      "dtypes: float64(5), object(2)\n",
      "memory usage: 2.8+ MB\n",
      "<class 'pandas.core.frame.DataFrame'>\n",
      "Index: 47379 entries, 1 to 47615\n",
      "Data columns (total 7 columns):\n",
      " #   Column     Non-Null Count  Dtype  \n",
      "---  ------     --------------  -----  \n",
      " 0   lat_ori    47379 non-null  float64\n",
      " 1   long_ori   47379 non-null  float64\n",
      " 2   lat_dest   47379 non-null  float64\n",
      " 3   long_dest  47379 non-null  float64\n",
      " 4   distance   47379 non-null  float64\n",
      " 5   eta        47379 non-null  object \n",
      " 6   timestamp  47379 non-null  object \n",
      "dtypes: float64(5), object(2)\n",
      "memory usage: 2.9+ MB\n"
     ]
    }
   ],
   "source": [
    "from_warehouse_df.distance = pd.to_numeric(from_warehouse_df.distance)\n",
    "random_location_df.distance = pd.to_numeric(random_location_df.distance)\n",
    "\n",
    "from_warehouse_df.info()\n",
    "random_location_df.info()"
   ]
  },
  {
   "cell_type": "code",
   "execution_count": null,
   "id": "46a5ea4f",
   "metadata": {},
   "outputs": [],
   "source": [
    "# Convert Duration to Seconds\n",
    "def convert_to_seconds(duration):\n",
    "    total_minutes = 0\n",
    "    parts = duration.split()\n",
    "    \n",
    "    for i in range(len(parts)):\n",
    "        if 'jam' in parts[i]:\n",
    "            total_minutes += int(parts[i - 1]) * 3600\n",
    "        elif 'mnt' in parts[i]:\n",
    "            total_minutes += int(parts[i - 1]) * 60\n",
    "            \n",
    "    return total_minutes"
   ]
  },
  {
   "cell_type": "code",
   "execution_count": 18,
   "id": "b590edcb",
   "metadata": {},
   "outputs": [
    {
     "name": "stdout",
     "output_type": "stream",
     "text": [
      "<class 'pandas.core.frame.DataFrame'>\n",
      "Index: 45667 entries, 0 to 45900\n",
      "Data columns (total 7 columns):\n",
      " #   Column     Non-Null Count  Dtype  \n",
      "---  ------     --------------  -----  \n",
      " 0   lat_ori    45667 non-null  float64\n",
      " 1   long_ori   45667 non-null  float64\n",
      " 2   lat_dest   45667 non-null  float64\n",
      " 3   long_dest  45667 non-null  float64\n",
      " 4   distance   45667 non-null  float64\n",
      " 5   eta        45667 non-null  int64  \n",
      " 6   timestamp  45667 non-null  object \n",
      "dtypes: float64(5), int64(1), object(1)\n",
      "memory usage: 2.8+ MB\n",
      "<class 'pandas.core.frame.DataFrame'>\n",
      "Index: 47379 entries, 1 to 47615\n",
      "Data columns (total 7 columns):\n",
      " #   Column     Non-Null Count  Dtype  \n",
      "---  ------     --------------  -----  \n",
      " 0   lat_ori    47379 non-null  float64\n",
      " 1   long_ori   47379 non-null  float64\n",
      " 2   lat_dest   47379 non-null  float64\n",
      " 3   long_dest  47379 non-null  float64\n",
      " 4   distance   47379 non-null  float64\n",
      " 5   eta        47379 non-null  int64  \n",
      " 6   timestamp  47379 non-null  object \n",
      "dtypes: float64(5), int64(1), object(1)\n",
      "memory usage: 2.9+ MB\n"
     ]
    }
   ],
   "source": [
    "from_warehouse_df.eta = from_warehouse_df.eta.apply(convert_to_seconds)\n",
    "random_location_df.eta = random_location_df.eta.apply(convert_to_seconds)\n",
    "\n",
    "from_warehouse_df.eta = pd.to_numeric(from_warehouse_df.eta)\n",
    "random_location_df.eta = pd.to_numeric(random_location_df.eta)\n",
    "\n",
    "from_warehouse_df.info()\n",
    "random_location_df.info()"
   ]
  },
  {
   "cell_type": "code",
   "execution_count": null,
   "id": "e069625f",
   "metadata": {},
   "outputs": [
    {
     "name": "stdout",
     "output_type": "stream",
     "text": [
      "<class 'pandas.core.frame.DataFrame'>\n",
      "Index: 45667 entries, 0 to 45900\n",
      "Data columns (total 7 columns):\n",
      " #   Column     Non-Null Count  Dtype  \n",
      "---  ------     --------------  -----  \n",
      " 0   lat_ori    45667 non-null  float64\n",
      " 1   long_ori   45667 non-null  float64\n",
      " 2   lat_dest   45667 non-null  float64\n",
      " 3   long_dest  45667 non-null  float64\n",
      " 4   distance   45667 non-null  float64\n",
      " 5   eta        45667 non-null  int64  \n",
      " 6   timestamp  45667 non-null  int32  \n",
      "dtypes: float64(5), int32(1), int64(1)\n",
      "memory usage: 2.6 MB\n",
      "<class 'pandas.core.frame.DataFrame'>\n",
      "Index: 47379 entries, 1 to 47615\n",
      "Data columns (total 7 columns):\n",
      " #   Column     Non-Null Count  Dtype  \n",
      "---  ------     --------------  -----  \n",
      " 0   lat_ori    47379 non-null  float64\n",
      " 1   long_ori   47379 non-null  float64\n",
      " 2   lat_dest   47379 non-null  float64\n",
      " 3   long_dest  47379 non-null  float64\n",
      " 4   distance   47379 non-null  float64\n",
      " 5   eta        47379 non-null  int64  \n",
      " 6   timestamp  47379 non-null  int32  \n",
      "dtypes: float64(5), int32(1), int64(1)\n",
      "memory usage: 2.7 MB\n"
     ]
    }
   ],
   "source": [
    "# Convert timestamp to second format\n",
    "from_warehouse_df.timestamp = pd.to_datetime(from_warehouse_df.timestamp, format='%Y-%m-%d %H:%M:%S')\n",
    "random_location_df.timestamp = pd.to_datetime(random_location_df.timestamp, format='%Y-%m-%d %H:%M:%S')\n",
    "\n",
    "from_warehouse_df['timestamp'] = (from_warehouse_df['timestamp'].dt.hour * 3600 +\n",
    "                                  from_warehouse_df['timestamp'].dt.minute * 60 +\n",
    "                                  from_warehouse_df['timestamp'].dt.second)\n",
    "\n",
    "random_location_df['timestamp'] = (random_location_df['timestamp'].dt.hour * 3600 +\n",
    "                                   random_location_df['timestamp'].dt.minute * 60 +\n",
    "                                   random_location_df['timestamp'].dt.second)\n",
    "\n",
    "from_warehouse_df.info()\n",
    "random_location_df.info()"
   ]
  },
  {
   "cell_type": "markdown",
   "id": "454ec6bd",
   "metadata": {},
   "source": [
    "## Model Development"
   ]
  },
  {
   "cell_type": "markdown",
   "id": "899d4739",
   "metadata": {},
   "source": [
    "### Prepare the Feature and Target Datasets"
   ]
  },
  {
   "cell_type": "code",
   "execution_count": 20,
   "id": "ce12021a",
   "metadata": {},
   "outputs": [
    {
     "name": "stdout",
     "output_type": "stream",
     "text": [
      "<class 'pandas.core.frame.DataFrame'>\n",
      "RangeIndex: 93046 entries, 0 to 93045\n",
      "Data columns (total 7 columns):\n",
      " #   Column     Non-Null Count  Dtype  \n",
      "---  ------     --------------  -----  \n",
      " 0   lat_ori    93046 non-null  float64\n",
      " 1   long_ori   93046 non-null  float64\n",
      " 2   lat_dest   93046 non-null  float64\n",
      " 3   long_dest  93046 non-null  float64\n",
      " 4   distance   93046 non-null  float64\n",
      " 5   eta        93046 non-null  int64  \n",
      " 6   timestamp  93046 non-null  int32  \n",
      "dtypes: float64(5), int32(1), int64(1)\n",
      "memory usage: 4.6 MB\n"
     ]
    }
   ],
   "source": [
    "df = pd.concat([from_warehouse_df, random_location_df], ignore_index=True)\n",
    "df.info()"
   ]
  },
  {
   "cell_type": "code",
   "execution_count": null,
   "id": "b77b65d4",
   "metadata": {},
   "outputs": [],
   "source": [
    "# Remove rows with distance > 100\n",
    "df = df[df.distance <= 100]"
   ]
  },
  {
   "cell_type": "markdown",
   "id": "41e4513d",
   "metadata": {},
   "source": [
    "#### Split the Dataset into Training and Testing"
   ]
  },
  {
   "cell_type": "code",
   "execution_count": 56,
   "id": "1af8cf73",
   "metadata": {},
   "outputs": [
    {
     "name": "stdout",
     "output_type": "stream",
     "text": [
      "<class 'pandas.core.frame.DataFrame'>\n",
      "Index: 83709 entries, 92006 to 15797\n",
      "Data columns (total 2 columns):\n",
      " #   Column     Non-Null Count  Dtype  \n",
      "---  ------     --------------  -----  \n",
      " 0   distance   83709 non-null  float64\n",
      " 1   timestamp  83709 non-null  int32  \n",
      "dtypes: float64(1), int32(1)\n",
      "memory usage: 1.6 MB\n",
      "<class 'pandas.core.series.Series'>\n",
      "Index: 83709 entries, 92006 to 15797\n",
      "Series name: eta\n",
      "Non-Null Count  Dtype\n",
      "--------------  -----\n",
      "83709 non-null  int64\n",
      "dtypes: int64(1)\n",
      "memory usage: 1.3 MB\n"
     ]
    }
   ],
   "source": [
    "x_train, x_test, y_train, y_test = train_test_split(df.drop(['lat_ori', 'long_ori', 'lat_dest', 'long_dest', 'eta'], axis=1), df['eta'], test_size=0.1, random_state=42)\n",
    "\n",
    "x_train.info()\n",
    "y_train.info()"
   ]
  },
  {
   "cell_type": "markdown",
   "id": "fde97be8",
   "metadata": {},
   "source": [
    "#### Model Building"
   ]
  },
  {
   "cell_type": "code",
   "execution_count": 59,
   "id": "f533ceb3",
   "metadata": {},
   "outputs": [
    {
     "name": "stdout",
     "output_type": "stream",
     "text": [
      "Epoch 1/1000\n"
     ]
    },
    {
     "name": "stderr",
     "output_type": "stream",
     "text": [
      "c:\\Users\\mbint\\anaconda3\\envs\\bangkit\\Lib\\site-packages\\keras\\src\\layers\\core\\dense.py:87: UserWarning: Do not pass an `input_shape`/`input_dim` argument to a layer. When using Sequential models, prefer using an `Input(shape)` object as the first layer in the model instead.\n",
      "  super().__init__(activity_regularizer=activity_regularizer, **kwargs)\n"
     ]
    },
    {
     "name": "stdout",
     "output_type": "stream",
     "text": [
      "\u001b[1m1308/1308\u001b[0m \u001b[32m━━━━━━━━━━━━━━━━━━━━\u001b[0m\u001b[37m\u001b[0m \u001b[1m3s\u001b[0m 1ms/step - loss: 0.5716 - val_loss: 0.4837\n",
      "Epoch 2/1000\n",
      "\u001b[1m1308/1308\u001b[0m \u001b[32m━━━━━━━━━━━━━━━━━━━━\u001b[0m\u001b[37m\u001b[0m \u001b[1m1s\u001b[0m 1ms/step - loss: 0.4777 - val_loss: 0.4702\n",
      "Epoch 3/1000\n",
      "\u001b[1m1308/1308\u001b[0m \u001b[32m━━━━━━━━━━━━━━━━━━━━\u001b[0m\u001b[37m\u001b[0m \u001b[1m1s\u001b[0m 922us/step - loss: 0.4646 - val_loss: 0.4669\n",
      "Epoch 4/1000\n",
      "\u001b[1m1308/1308\u001b[0m \u001b[32m━━━━━━━━━━━━━━━━━━━━\u001b[0m\u001b[37m\u001b[0m \u001b[1m1s\u001b[0m 853us/step - loss: 0.4587 - val_loss: 0.4608\n",
      "Epoch 5/1000\n",
      "\u001b[1m1308/1308\u001b[0m \u001b[32m━━━━━━━━━━━━━━━━━━━━\u001b[0m\u001b[37m\u001b[0m \u001b[1m1s\u001b[0m 898us/step - loss: 0.4589 - val_loss: 0.4574\n",
      "Epoch 6/1000\n",
      "\u001b[1m1308/1308\u001b[0m \u001b[32m━━━━━━━━━━━━━━━━━━━━\u001b[0m\u001b[37m\u001b[0m \u001b[1m1s\u001b[0m 909us/step - loss: 0.4542 - val_loss: 0.4612\n",
      "Epoch 7/1000\n",
      "\u001b[1m1308/1308\u001b[0m \u001b[32m━━━━━━━━━━━━━━━━━━━━\u001b[0m\u001b[37m\u001b[0m \u001b[1m1s\u001b[0m 886us/step - loss: 0.4526 - val_loss: 0.4586\n",
      "Epoch 8/1000\n",
      "\u001b[1m1308/1308\u001b[0m \u001b[32m━━━━━━━━━━━━━━━━━━━━\u001b[0m\u001b[37m\u001b[0m \u001b[1m1s\u001b[0m 896us/step - loss: 0.4532 - val_loss: 0.4539\n",
      "Epoch 9/1000\n",
      "\u001b[1m1308/1308\u001b[0m \u001b[32m━━━━━━━━━━━━━━━━━━━━\u001b[0m\u001b[37m\u001b[0m \u001b[1m1s\u001b[0m 948us/step - loss: 0.4520 - val_loss: 0.4550\n",
      "Epoch 10/1000\n",
      "\u001b[1m1308/1308\u001b[0m \u001b[32m━━━━━━━━━━━━━━━━━━━━\u001b[0m\u001b[37m\u001b[0m \u001b[1m1s\u001b[0m 916us/step - loss: 0.4504 - val_loss: 0.4594\n",
      "Epoch 11/1000\n",
      "\u001b[1m1308/1308\u001b[0m \u001b[32m━━━━━━━━━━━━━━━━━━━━\u001b[0m\u001b[37m\u001b[0m \u001b[1m1s\u001b[0m 923us/step - loss: 0.4502 - val_loss: 0.4596\n",
      "Epoch 12/1000\n",
      "\u001b[1m1308/1308\u001b[0m \u001b[32m━━━━━━━━━━━━━━━━━━━━\u001b[0m\u001b[37m\u001b[0m \u001b[1m1s\u001b[0m 934us/step - loss: 0.4498 - val_loss: 0.4604\n",
      "Epoch 13/1000\n",
      "\u001b[1m1308/1308\u001b[0m \u001b[32m━━━━━━━━━━━━━━━━━━━━\u001b[0m\u001b[37m\u001b[0m \u001b[1m1s\u001b[0m 898us/step - loss: 0.4451 - val_loss: 0.4653\n",
      "Epoch 14/1000\n",
      "\u001b[1m1308/1308\u001b[0m \u001b[32m━━━━━━━━━━━━━━━━━━━━\u001b[0m\u001b[37m\u001b[0m \u001b[1m1s\u001b[0m 986us/step - loss: 0.4498 - val_loss: 0.4547\n",
      "Epoch 15/1000\n",
      "\u001b[1m1308/1308\u001b[0m \u001b[32m━━━━━━━━━━━━━━━━━━━━\u001b[0m\u001b[37m\u001b[0m \u001b[1m1s\u001b[0m 923us/step - loss: 0.4493 - val_loss: 0.4650\n",
      "Epoch 16/1000\n",
      "\u001b[1m1308/1308\u001b[0m \u001b[32m━━━━━━━━━━━━━━━━━━━━\u001b[0m\u001b[37m\u001b[0m \u001b[1m1s\u001b[0m 856us/step - loss: 0.4501 - val_loss: 0.4678\n",
      "Epoch 17/1000\n",
      "\u001b[1m1308/1308\u001b[0m \u001b[32m━━━━━━━━━━━━━━━━━━━━\u001b[0m\u001b[37m\u001b[0m \u001b[1m1s\u001b[0m 893us/step - loss: 0.4452 - val_loss: 0.4611\n",
      "Epoch 18/1000\n",
      "\u001b[1m1308/1308\u001b[0m \u001b[32m━━━━━━━━━━━━━━━━━━━━\u001b[0m\u001b[37m\u001b[0m \u001b[1m1s\u001b[0m 929us/step - loss: 0.4475 - val_loss: 0.4671\n",
      "Epoch 19/1000\n",
      "\u001b[1m1308/1308\u001b[0m \u001b[32m━━━━━━━━━━━━━━━━━━━━\u001b[0m\u001b[37m\u001b[0m \u001b[1m1s\u001b[0m 902us/step - loss: 0.4461 - val_loss: 0.4692\n",
      "Epoch 20/1000\n",
      "\u001b[1m1308/1308\u001b[0m \u001b[32m━━━━━━━━━━━━━━━━━━━━\u001b[0m\u001b[37m\u001b[0m \u001b[1m1s\u001b[0m 982us/step - loss: 0.4497 - val_loss: 0.4577\n",
      "Epoch 21/1000\n",
      "\u001b[1m1308/1308\u001b[0m \u001b[32m━━━━━━━━━━━━━━━━━━━━\u001b[0m\u001b[37m\u001b[0m \u001b[1m1s\u001b[0m 918us/step - loss: 0.4488 - val_loss: 0.4554\n",
      "Epoch 22/1000\n",
      "\u001b[1m1308/1308\u001b[0m \u001b[32m━━━━━━━━━━━━━━━━━━━━\u001b[0m\u001b[37m\u001b[0m \u001b[1m1s\u001b[0m 951us/step - loss: 0.4481 - val_loss: 0.4618\n",
      "Epoch 23/1000\n",
      "\u001b[1m1308/1308\u001b[0m \u001b[32m━━━━━━━━━━━━━━━━━━━━\u001b[0m\u001b[37m\u001b[0m \u001b[1m1s\u001b[0m 873us/step - loss: 0.4455 - val_loss: 0.4592\n",
      "Epoch 24/1000\n",
      "\u001b[1m1308/1308\u001b[0m \u001b[32m━━━━━━━━━━━━━━━━━━━━\u001b[0m\u001b[37m\u001b[0m \u001b[1m1s\u001b[0m 935us/step - loss: 0.4469 - val_loss: 0.4644\n",
      "Epoch 25/1000\n",
      "\u001b[1m1308/1308\u001b[0m \u001b[32m━━━━━━━━━━━━━━━━━━━━\u001b[0m\u001b[37m\u001b[0m \u001b[1m1s\u001b[0m 1ms/step - loss: 0.4497 - val_loss: 0.4596\n",
      "Epoch 26/1000\n",
      "\u001b[1m1308/1308\u001b[0m \u001b[32m━━━━━━━━━━━━━━━━━━━━\u001b[0m\u001b[37m\u001b[0m \u001b[1m1s\u001b[0m 984us/step - loss: 0.4488 - val_loss: 0.4583\n",
      "Epoch 27/1000\n",
      "\u001b[1m1308/1308\u001b[0m \u001b[32m━━━━━━━━━━━━━━━━━━━━\u001b[0m\u001b[37m\u001b[0m \u001b[1m1s\u001b[0m 951us/step - loss: 0.4438 - val_loss: 0.4635\n",
      "Epoch 28/1000\n",
      "\u001b[1m1308/1308\u001b[0m \u001b[32m━━━━━━━━━━━━━━━━━━━━\u001b[0m\u001b[37m\u001b[0m \u001b[1m1s\u001b[0m 892us/step - loss: 0.4460 - val_loss: 0.4604\n"
     ]
    }
   ],
   "source": [
    "# Scaling X (fit & transform for training, transform only for testing)\n",
    "scaler = StandardScaler()\n",
    "x_train_scaled = scaler.fit_transform(x_train)\n",
    "x_test_scaled = scaler.transform(x_test)\n",
    "\n",
    "# Scaling Y (target)\n",
    "y_scaler = StandardScaler()\n",
    "y_train_scaled = y_scaler.fit_transform(y_train.to_numpy().reshape(-1, 1)).flatten()\n",
    "y_test_scaled = y_scaler.transform(y_test.to_numpy().reshape(-1, 1)).flatten()\n",
    "\n",
    "# Build the model\n",
    "model = tf.keras.Sequential([\n",
    "    tf.keras.layers.Dense(128, activation='relu', kernel_regularizer=tf.keras.regularizers.l2(0.001), input_shape=(x_train_scaled.shape[1],)),\n",
    "    tf.keras.layers.Dense(64, activation='relu', kernel_regularizer=tf.keras.regularizers.l2(0.001)),\n",
    "    tf.keras.layers.Dropout(0.2),\n",
    "    tf.keras.layers.Dense(32, activation='relu', kernel_regularizer=tf.keras.regularizers.l2(0.001)),\n",
    "    tf.keras.layers.Dense(1)\n",
    "])\n",
    "\n",
    "# Compile the model\n",
    "optimizer = tf.keras.optimizers.Adam(learning_rate=0.0005)\n",
    "model.compile(optimizer=optimizer, loss='mae')\n",
    "\n",
    "# Train the model with early stopping\n",
    "history = model.fit(\n",
    "    x_train_scaled, y_train_scaled,\n",
    "    epochs=1000,\n",
    "    batch_size=64,\n",
    "    verbose=1,\n",
    "    validation_data=(x_test_scaled, y_test_scaled),\n",
    "    callbacks=[tf.keras.callbacks.EarlyStopping(monitor='val_loss', patience=20, restore_best_weights=True)]\n",
    ")"
   ]
  },
  {
   "cell_type": "markdown",
   "id": "efda900a",
   "metadata": {},
   "source": [
    "#### Evaluate the Model"
   ]
  },
  {
   "cell_type": "code",
   "execution_count": null,
   "id": "71c78146",
   "metadata": {},
   "outputs": [
    {
     "name": "stdout",
     "output_type": "stream",
     "text": [
      "\u001b[1m291/291\u001b[0m \u001b[32m━━━━━━━━━━━━━━━━━━━━\u001b[0m\u001b[37m\u001b[0m \u001b[1m0s\u001b[0m 732us/step\n",
      "MAE on actual scale: 558.05\n"
     ]
    }
   ],
   "source": [
    "# Predict and inverse transform to original scale\n",
    "y_pred_scaled = model.predict(x_test_scaled)\n",
    "y_pred = y_scaler.inverse_transform(y_pred_scaled)\n",
    "\n",
    "# Optional: convert y_test back to array for evaluation/plotting\n",
    "y_test_actual = y_test.to_numpy()\n",
    "\n",
    "from sklearn.metrics import mean_absolute_error\n",
    "mae = mean_absolute_error(y_test_actual, y_pred)\n",
    "print(f\"MAE on actual scale: {mae:.2f} seconds\")"
   ]
  },
  {
   "cell_type": "markdown",
   "id": "7aae020f",
   "metadata": {},
   "source": [
    "#### Evaluate Actual vs Predicted Values"
   ]
  },
  {
   "cell_type": "code",
   "execution_count": 61,
   "id": "c573a1ba",
   "metadata": {},
   "outputs": [
    {
     "data": {
      "image/png": "[encoded data removed]",
      "text/plain": [
       "<Figure size 1000x500 with 1 Axes>"
      ]
     },
     "metadata": {},
     "output_type": "display_data"
    }
   ],
   "source": [
    "import matplotlib.pyplot as plt\n",
    "\n",
    "plt.figure(figsize=(10,5))\n",
    "plt.plot(y_test_actual[:500], label='Actual')\n",
    "plt.plot(y_pred[:500], label='Predicted')\n",
    "plt.legend()\n",
    "plt.title('Actual vs Predicted (First 100 Samples)')\n",
    "plt.xlabel('Sample Index')\n",
    "plt.ylabel('Target Value')\n",
    "plt.grid(True)\n",
    "plt.show()"
   ]
  },
  {
   "cell_type": "markdown",
   "id": "c51dda2c",
   "metadata": {},
   "source": [
    "#### Test the model on sample data"
   ]
  },
  {
   "cell_type": "code",
   "execution_count": 62,
   "id": "404fd1a4",
   "metadata": {},
   "outputs": [
    {
     "name": "stdout",
     "output_type": "stream",
     "text": [
      "\u001b[1m1/1\u001b[0m \u001b[32m━━━━━━━━━━━━━━━━━━━━\u001b[0m\u001b[37m\u001b[0m \u001b[1m0s\u001b[0m 19ms/step\n",
      "Predicted ETA (actual scale): 3609.9753\n"
     ]
    },
    {
     "name": "stderr",
     "output_type": "stream",
     "text": [
      "c:\\Users\\mbint\\anaconda3\\envs\\bangkit\\Lib\\site-packages\\sklearn\\base.py:493: UserWarning: X does not have valid feature names, but StandardScaler was fitted with feature names\n",
      "  warnings.warn(\n"
     ]
    }
   ],
   "source": [
    "# Sample input in original scale\n",
    "sample_input = np.array([[38.0, 63631]])  # make sure it's 2D\n",
    "\n",
    "# Scale the input using the same scaler used for training\n",
    "sample_input_scaled = scaler.transform(sample_input)\n",
    "\n",
    "# Predict (output will be in scaled target)\n",
    "pred_scaled = model.predict(sample_input_scaled)\n",
    "\n",
    "# Inverse transform to get back to original target scale\n",
    "pred_actual = y_scaler.inverse_transform(pred_scaled)\n",
    "\n",
    "print(\"Predicted ETA (actual scale):\", pred_actual[0][0])\n"
   ]
  }
 ],
 "metadata": {
  "kernelspec": {
   "display_name": "bangkit",
   "language": "python",
   "name": "python3"
  },
  "language_info": {
   "codemirror_mode": {
    "name": "ipython",
    "version": 3
   },
   "file_extension": ".py",
   "mimetype": "text/x-python",
   "name": "python",
   "nbconvert_exporter": "python",
   "pygments_lexer": "ipython3",
   "version": "3.12.4"
  }
 },
 "nbformat": 4,
 "nbformat_minor": 5
}
