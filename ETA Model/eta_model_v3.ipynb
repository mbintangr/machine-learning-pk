{
 "cells": [
  {
   "cell_type": "markdown",
   "id": "bd06992e",
   "metadata": {},
   "source": [
    "# Estimated Time Arrival"
   ]
  },
  {
   "cell_type": "markdown",
   "id": "f42ec269",
   "metadata": {},
   "source": [
    "## Import Required Libraries"
   ]
  },
  {
   "cell_type": "code",
   "execution_count": 1,
   "id": "095de404",
   "metadata": {},
   "outputs": [],
   "source": [
    "import pandas as pd\n",
    "import numpy as np\n",
    "import tensorflow as tf\n",
    "from sklearn.model_selection import train_test_split\n",
    "from sklearn.preprocessing import StandardScaler"
   ]
  },
  {
   "cell_type": "markdown",
   "id": "b7d2e6f0",
   "metadata": {},
   "source": [
    "## Preprocessing"
   ]
  },
  {
   "cell_type": "markdown",
   "id": "5ae3fc9d",
   "metadata": {},
   "source": [
    "### Load Datasets"
   ]
  },
  {
   "cell_type": "code",
   "execution_count": 2,
   "id": "4e96abc6",
   "metadata": {},
   "outputs": [
    {
     "data": {
      "text/html": [
       "<div>\n",
       "<style scoped>\n",
       "    .dataframe tbody tr th:only-of-type {\n",
       "        vertical-align: middle;\n",
       "    }\n",
       "\n",
       "    .dataframe tbody tr th {\n",
       "        vertical-align: top;\n",
       "    }\n",
       "\n",
       "    .dataframe thead th {\n",
       "        text-align: right;\n",
       "    }\n",
       "</style>\n",
       "<table border=\"1\" class=\"dataframe\">\n",
       "  <thead>\n",
       "    <tr style=\"text-align: right;\">\n",
       "      <th></th>\n",
       "      <th>lat_origin</th>\n",
       "      <th>long_origin</th>\n",
       "      <th>lat_destination</th>\n",
       "      <th>long_destination</th>\n",
       "      <th>Jarak</th>\n",
       "      <th>Waktu Tempuh</th>\n",
       "      <th>Waktu Penulisan</th>\n",
       "      <th>Link</th>\n",
       "    </tr>\n",
       "  </thead>\n",
       "  <tbody>\n",
       "    <tr>\n",
       "      <th>0</th>\n",
       "      <td>-6.395965</td>\n",
       "      <td>106.897527</td>\n",
       "      <td>-6.444471</td>\n",
       "      <td>106.72434</td>\n",
       "      <td>40,6 km</td>\n",
       "      <td>1 jam 2 mnt</td>\n",
       "      <td>2025-03-20 10:06:55</td>\n",
       "      <td>https://www.google.com/maps/dir/'-6.395965,106...</td>\n",
       "    </tr>\n",
       "    <tr>\n",
       "      <th>1</th>\n",
       "      <td>-6.395965</td>\n",
       "      <td>106.897527</td>\n",
       "      <td>-6.444471</td>\n",
       "      <td>106.72434</td>\n",
       "      <td>50,0 km</td>\n",
       "      <td>1 jam 2 mnt</td>\n",
       "      <td>2025-03-20 10:06:56</td>\n",
       "      <td>https://www.google.com/maps/dir/'-6.395965,106...</td>\n",
       "    </tr>\n",
       "    <tr>\n",
       "      <th>2</th>\n",
       "      <td>-6.395965</td>\n",
       "      <td>106.897527</td>\n",
       "      <td>-6.16938</td>\n",
       "      <td>106.609849</td>\n",
       "      <td>55,6 km</td>\n",
       "      <td>1 jam 4 mnt</td>\n",
       "      <td>2025-03-20 10:07:16</td>\n",
       "      <td>https://www.google.com/maps/dir/'-6.395965,106...</td>\n",
       "    </tr>\n",
       "    <tr>\n",
       "      <th>3</th>\n",
       "      <td>-6.395965</td>\n",
       "      <td>106.897527</td>\n",
       "      <td>-6.16938</td>\n",
       "      <td>106.609849</td>\n",
       "      <td>55,6 km</td>\n",
       "      <td>1 jam 6 mnt</td>\n",
       "      <td>2025-03-20 10:07:16</td>\n",
       "      <td>https://www.google.com/maps/dir/'-6.395965,106...</td>\n",
       "    </tr>\n",
       "    <tr>\n",
       "      <th>4</th>\n",
       "      <td>-6.395965</td>\n",
       "      <td>106.897527</td>\n",
       "      <td>-6.245515</td>\n",
       "      <td>106.963095</td>\n",
       "      <td>28,1 km</td>\n",
       "      <td>40 mnt</td>\n",
       "      <td>2025-03-20 10:07:36</td>\n",
       "      <td>https://www.google.com/maps/dir/'-6.395965,106...</td>\n",
       "    </tr>\n",
       "  </tbody>\n",
       "</table>\n",
       "</div>"
      ],
      "text/plain": [
       "  lat_origin long_origin lat_destination long_destination    Jarak  \\\n",
       "0  -6.395965  106.897527       -6.444471        106.72434  40,6 km   \n",
       "1  -6.395965  106.897527       -6.444471        106.72434  50,0 km   \n",
       "2  -6.395965  106.897527        -6.16938       106.609849  55,6 km   \n",
       "3  -6.395965  106.897527        -6.16938       106.609849  55,6 km   \n",
       "4  -6.395965  106.897527       -6.245515       106.963095  28,1 km   \n",
       "\n",
       "  Waktu Tempuh      Waktu Penulisan  \\\n",
       "0  1 jam 2 mnt  2025-03-20 10:06:55   \n",
       "1  1 jam 2 mnt  2025-03-20 10:06:56   \n",
       "2  1 jam 4 mnt  2025-03-20 10:07:16   \n",
       "3  1 jam 6 mnt  2025-03-20 10:07:16   \n",
       "4       40 mnt  2025-03-20 10:07:36   \n",
       "\n",
       "                                                Link  \n",
       "0  https://www.google.com/maps/dir/'-6.395965,106...  \n",
       "1  https://www.google.com/maps/dir/'-6.395965,106...  \n",
       "2  https://www.google.com/maps/dir/'-6.395965,106...  \n",
       "3  https://www.google.com/maps/dir/'-6.395965,106...  \n",
       "4  https://www.google.com/maps/dir/'-6.395965,106...  "
      ]
     },
     "execution_count": 2,
     "metadata": {},
     "output_type": "execute_result"
    }
   ],
   "source": [
    "from_warehouse_df = pd.read_csv('../Datasets/results-fromwarehouse.csv')\n",
    "from_warehouse_df.head()"
   ]
  },
  {
   "cell_type": "code",
   "execution_count": 3,
   "id": "64517346",
   "metadata": {},
   "outputs": [
    {
     "data": {
      "text/html": [
       "<div>\n",
       "<style scoped>\n",
       "    .dataframe tbody tr th:only-of-type {\n",
       "        vertical-align: middle;\n",
       "    }\n",
       "\n",
       "    .dataframe tbody tr th {\n",
       "        vertical-align: top;\n",
       "    }\n",
       "\n",
       "    .dataframe thead th {\n",
       "        text-align: right;\n",
       "    }\n",
       "</style>\n",
       "<table border=\"1\" class=\"dataframe\">\n",
       "  <thead>\n",
       "    <tr style=\"text-align: right;\">\n",
       "      <th></th>\n",
       "      <th>lat_origin</th>\n",
       "      <th>long_origin</th>\n",
       "      <th>lat_destination</th>\n",
       "      <th>long_destination</th>\n",
       "      <th>Jarak</th>\n",
       "      <th>Waktu Tempuh</th>\n",
       "      <th>Waktu Penulisan</th>\n",
       "      <th>Link</th>\n",
       "    </tr>\n",
       "  </thead>\n",
       "  <tbody>\n",
       "    <tr>\n",
       "      <th>0</th>\n",
       "      <td>lat_origin</td>\n",
       "      <td>long_origin</td>\n",
       "      <td>lat_destination</td>\n",
       "      <td>long_destination</td>\n",
       "      <td>Jarak</td>\n",
       "      <td>Waktu Tempuh</td>\n",
       "      <td>Waktu Penulisan</td>\n",
       "      <td>Link</td>\n",
       "    </tr>\n",
       "    <tr>\n",
       "      <th>1</th>\n",
       "      <td>-6.403632</td>\n",
       "      <td>106.875937</td>\n",
       "      <td>-6.47717</td>\n",
       "      <td>106.860436</td>\n",
       "      <td>11,5 km</td>\n",
       "      <td>29 mnt</td>\n",
       "      <td>2025-03-20 10:00:20</td>\n",
       "      <td>https://www.google.com/maps/dir/'-6.403632,106...</td>\n",
       "    </tr>\n",
       "    <tr>\n",
       "      <th>2</th>\n",
       "      <td>-6.403632</td>\n",
       "      <td>106.875937</td>\n",
       "      <td>-6.47717</td>\n",
       "      <td>106.860436</td>\n",
       "      <td>15,7 km</td>\n",
       "      <td>29 mnt</td>\n",
       "      <td>2025-03-20 10:00:21</td>\n",
       "      <td>https://www.google.com/maps/dir/'-6.403632,106...</td>\n",
       "    </tr>\n",
       "    <tr>\n",
       "      <th>3</th>\n",
       "      <td>-6.277224</td>\n",
       "      <td>106.830669</td>\n",
       "      <td>-6.227915</td>\n",
       "      <td>106.969559</td>\n",
       "      <td>27,4 km</td>\n",
       "      <td>47 mnt</td>\n",
       "      <td>2025-03-20 10:00:38</td>\n",
       "      <td>https://www.google.com/maps/dir/'-6.277224,106...</td>\n",
       "    </tr>\n",
       "    <tr>\n",
       "      <th>4</th>\n",
       "      <td>-6.277224</td>\n",
       "      <td>106.830669</td>\n",
       "      <td>-6.227915</td>\n",
       "      <td>106.969559</td>\n",
       "      <td>27,2 km</td>\n",
       "      <td>49 mnt</td>\n",
       "      <td>2025-03-20 10:00:38</td>\n",
       "      <td>https://www.google.com/maps/dir/'-6.277224,106...</td>\n",
       "    </tr>\n",
       "  </tbody>\n",
       "</table>\n",
       "</div>"
      ],
      "text/plain": [
       "   lat_origin  long_origin  lat_destination  long_destination    Jarak  \\\n",
       "0  lat_origin  long_origin  lat_destination  long_destination    Jarak   \n",
       "1   -6.403632   106.875937         -6.47717        106.860436  11,5 km   \n",
       "2   -6.403632   106.875937         -6.47717        106.860436  15,7 km   \n",
       "3   -6.277224   106.830669        -6.227915        106.969559  27,4 km   \n",
       "4   -6.277224   106.830669        -6.227915        106.969559  27,2 km   \n",
       "\n",
       "   Waktu Tempuh      Waktu Penulisan  \\\n",
       "0  Waktu Tempuh      Waktu Penulisan   \n",
       "1        29 mnt  2025-03-20 10:00:20   \n",
       "2        29 mnt  2025-03-20 10:00:21   \n",
       "3        47 mnt  2025-03-20 10:00:38   \n",
       "4        49 mnt  2025-03-20 10:00:38   \n",
       "\n",
       "                                                Link  \n",
       "0                                               Link  \n",
       "1  https://www.google.com/maps/dir/'-6.403632,106...  \n",
       "2  https://www.google.com/maps/dir/'-6.403632,106...  \n",
       "3  https://www.google.com/maps/dir/'-6.277224,106...  \n",
       "4  https://www.google.com/maps/dir/'-6.277224,106...  "
      ]
     },
     "execution_count": 3,
     "metadata": {},
     "output_type": "execute_result"
    }
   ],
   "source": [
    "random_location_df = pd.read_csv('../Datasets/results-allrandom.csv')\n",
    "random_location_df.head()"
   ]
  },
  {
   "cell_type": "markdown",
   "id": "d7ae1d6d",
   "metadata": {},
   "source": [
    "### Check the Dataset Stats"
   ]
  },
  {
   "cell_type": "markdown",
   "id": "e3eaf944",
   "metadata": {},
   "source": [
    "#### from_warehouse_df"
   ]
  },
  {
   "cell_type": "code",
   "execution_count": 4,
   "id": "ba2986b6",
   "metadata": {},
   "outputs": [
    {
     "data": {
      "text/html": [
       "<div>\n",
       "<style scoped>\n",
       "    .dataframe tbody tr th:only-of-type {\n",
       "        vertical-align: middle;\n",
       "    }\n",
       "\n",
       "    .dataframe tbody tr th {\n",
       "        vertical-align: top;\n",
       "    }\n",
       "\n",
       "    .dataframe thead th {\n",
       "        text-align: right;\n",
       "    }\n",
       "</style>\n",
       "<table border=\"1\" class=\"dataframe\">\n",
       "  <thead>\n",
       "    <tr style=\"text-align: right;\">\n",
       "      <th></th>\n",
       "      <th>lat_origin</th>\n",
       "      <th>long_origin</th>\n",
       "      <th>lat_destination</th>\n",
       "      <th>long_destination</th>\n",
       "      <th>Jarak</th>\n",
       "      <th>Waktu Tempuh</th>\n",
       "      <th>Waktu Penulisan</th>\n",
       "      <th>Link</th>\n",
       "    </tr>\n",
       "  </thead>\n",
       "  <tbody>\n",
       "    <tr>\n",
       "      <th>count</th>\n",
       "      <td>45901</td>\n",
       "      <td>45901</td>\n",
       "      <td>45901</td>\n",
       "      <td>45901</td>\n",
       "      <td>45901</td>\n",
       "      <td>45901</td>\n",
       "      <td>45901</td>\n",
       "      <td>45901</td>\n",
       "    </tr>\n",
       "    <tr>\n",
       "      <th>unique</th>\n",
       "      <td>2</td>\n",
       "      <td>2</td>\n",
       "      <td>24270</td>\n",
       "      <td>24265</td>\n",
       "      <td>694</td>\n",
       "      <td>146</td>\n",
       "      <td>34308</td>\n",
       "      <td>27689</td>\n",
       "    </tr>\n",
       "    <tr>\n",
       "      <th>top</th>\n",
       "      <td>-6.395965</td>\n",
       "      <td>106.897527</td>\n",
       "      <td>lat_destination</td>\n",
       "      <td>long_destination</td>\n",
       "      <td>Jarak</td>\n",
       "      <td>48 mnt</td>\n",
       "      <td>Waktu Penulisan</td>\n",
       "      <td>Link</td>\n",
       "    </tr>\n",
       "    <tr>\n",
       "      <th>freq</th>\n",
       "      <td>45668</td>\n",
       "      <td>45668</td>\n",
       "      <td>233</td>\n",
       "      <td>233</td>\n",
       "      <td>233</td>\n",
       "      <td>1316</td>\n",
       "      <td>233</td>\n",
       "      <td>233</td>\n",
       "    </tr>\n",
       "  </tbody>\n",
       "</table>\n",
       "</div>"
      ],
      "text/plain": [
       "       lat_origin long_origin  lat_destination  long_destination  Jarak  \\\n",
       "count       45901       45901            45901             45901  45901   \n",
       "unique          2           2            24270             24265    694   \n",
       "top     -6.395965  106.897527  lat_destination  long_destination  Jarak   \n",
       "freq        45668       45668              233               233    233   \n",
       "\n",
       "       Waktu Tempuh  Waktu Penulisan   Link  \n",
       "count         45901            45901  45901  \n",
       "unique          146            34308  27689  \n",
       "top          48 mnt  Waktu Penulisan   Link  \n",
       "freq           1316              233    233  "
      ]
     },
     "execution_count": 4,
     "metadata": {},
     "output_type": "execute_result"
    }
   ],
   "source": [
    "from_warehouse_df.describe()"
   ]
  },
  {
   "cell_type": "code",
   "execution_count": 5,
   "id": "7e3e8d01",
   "metadata": {},
   "outputs": [
    {
     "name": "stdout",
     "output_type": "stream",
     "text": [
      "<class 'pandas.core.frame.DataFrame'>\n",
      "RangeIndex: 45901 entries, 0 to 45900\n",
      "Data columns (total 8 columns):\n",
      " #   Column            Non-Null Count  Dtype \n",
      "---  ------            --------------  ----- \n",
      " 0   lat_origin        45901 non-null  object\n",
      " 1   long_origin       45901 non-null  object\n",
      " 2   lat_destination   45901 non-null  object\n",
      " 3   long_destination  45901 non-null  object\n",
      " 4   Jarak             45901 non-null  object\n",
      " 5   Waktu Tempuh      45901 non-null  object\n",
      " 6   Waktu Penulisan   45901 non-null  object\n",
      " 7   Link              45901 non-null  object\n",
      "dtypes: object(8)\n",
      "memory usage: 2.8+ MB\n"
     ]
    }
   ],
   "source": [
    "from_warehouse_df.info()"
   ]
  },
  {
   "cell_type": "markdown",
   "id": "676d4f2b",
   "metadata": {},
   "source": [
    "#### random_location_df"
   ]
  },
  {
   "cell_type": "code",
   "execution_count": 6,
   "id": "4f9deed8",
   "metadata": {},
   "outputs": [
    {
     "data": {
      "text/html": [
       "<div>\n",
       "<style scoped>\n",
       "    .dataframe tbody tr th:only-of-type {\n",
       "        vertical-align: middle;\n",
       "    }\n",
       "\n",
       "    .dataframe tbody tr th {\n",
       "        vertical-align: top;\n",
       "    }\n",
       "\n",
       "    .dataframe thead th {\n",
       "        text-align: right;\n",
       "    }\n",
       "</style>\n",
       "<table border=\"1\" class=\"dataframe\">\n",
       "  <thead>\n",
       "    <tr style=\"text-align: right;\">\n",
       "      <th></th>\n",
       "      <th>lat_origin</th>\n",
       "      <th>long_origin</th>\n",
       "      <th>lat_destination</th>\n",
       "      <th>long_destination</th>\n",
       "      <th>Jarak</th>\n",
       "      <th>Waktu Tempuh</th>\n",
       "      <th>Waktu Penulisan</th>\n",
       "      <th>Link</th>\n",
       "    </tr>\n",
       "  </thead>\n",
       "  <tbody>\n",
       "    <tr>\n",
       "      <th>count</th>\n",
       "      <td>47616</td>\n",
       "      <td>47616</td>\n",
       "      <td>47616</td>\n",
       "      <td>47616</td>\n",
       "      <td>47616</td>\n",
       "      <td>47616</td>\n",
       "      <td>47616</td>\n",
       "      <td>47616</td>\n",
       "    </tr>\n",
       "    <tr>\n",
       "      <th>unique</th>\n",
       "      <td>24388</td>\n",
       "      <td>24312</td>\n",
       "      <td>24411</td>\n",
       "      <td>24447</td>\n",
       "      <td>947</td>\n",
       "      <td>180</td>\n",
       "      <td>34958</td>\n",
       "      <td>28112</td>\n",
       "    </tr>\n",
       "    <tr>\n",
       "      <th>top</th>\n",
       "      <td>lat_origin</td>\n",
       "      <td>long_origin</td>\n",
       "      <td>lat_destination</td>\n",
       "      <td>long_destination</td>\n",
       "      <td>Jarak</td>\n",
       "      <td>51 mnt</td>\n",
       "      <td>Waktu Penulisan</td>\n",
       "      <td>Link</td>\n",
       "    </tr>\n",
       "    <tr>\n",
       "      <th>freq</th>\n",
       "      <td>234</td>\n",
       "      <td>234</td>\n",
       "      <td>234</td>\n",
       "      <td>234</td>\n",
       "      <td>234</td>\n",
       "      <td>952</td>\n",
       "      <td>234</td>\n",
       "      <td>234</td>\n",
       "    </tr>\n",
       "  </tbody>\n",
       "</table>\n",
       "</div>"
      ],
      "text/plain": [
       "        lat_origin  long_origin  lat_destination  long_destination  Jarak  \\\n",
       "count        47616        47616            47616             47616  47616   \n",
       "unique       24388        24312            24411             24447    947   \n",
       "top     lat_origin  long_origin  lat_destination  long_destination  Jarak   \n",
       "freq           234          234              234               234    234   \n",
       "\n",
       "       Waktu Tempuh  Waktu Penulisan   Link  \n",
       "count         47616            47616  47616  \n",
       "unique          180            34958  28112  \n",
       "top          51 mnt  Waktu Penulisan   Link  \n",
       "freq            952              234    234  "
      ]
     },
     "execution_count": 6,
     "metadata": {},
     "output_type": "execute_result"
    }
   ],
   "source": [
    "random_location_df.describe()"
   ]
  },
  {
   "cell_type": "code",
   "execution_count": 7,
   "id": "4b76051e",
   "metadata": {},
   "outputs": [
    {
     "name": "stdout",
     "output_type": "stream",
     "text": [
      "<class 'pandas.core.frame.DataFrame'>\n",
      "RangeIndex: 47616 entries, 0 to 47615\n",
      "Data columns (total 8 columns):\n",
      " #   Column            Non-Null Count  Dtype \n",
      "---  ------            --------------  ----- \n",
      " 0   lat_origin        47616 non-null  object\n",
      " 1   long_origin       47616 non-null  object\n",
      " 2   lat_destination   47616 non-null  object\n",
      " 3   long_destination  47616 non-null  object\n",
      " 4   Jarak             47616 non-null  object\n",
      " 5   Waktu Tempuh      47616 non-null  object\n",
      " 6   Waktu Penulisan   47616 non-null  object\n",
      " 7   Link              47616 non-null  object\n",
      "dtypes: object(8)\n",
      "memory usage: 2.9+ MB\n"
     ]
    }
   ],
   "source": [
    "random_location_df.info()"
   ]
  },
  {
   "cell_type": "markdown",
   "id": "503f9869",
   "metadata": {},
   "source": [
    "### Data Cleaning"
   ]
  },
  {
   "cell_type": "markdown",
   "id": "f9035aef",
   "metadata": {},
   "source": [
    "#### Change Columns Name"
   ]
  },
  {
   "cell_type": "code",
   "execution_count": 8,
   "id": "552b8221",
   "metadata": {},
   "outputs": [
    {
     "name": "stdout",
     "output_type": "stream",
     "text": [
      "<class 'pandas.core.frame.DataFrame'>\n",
      "RangeIndex: 45901 entries, 0 to 45900\n",
      "Data columns (total 8 columns):\n",
      " #   Column     Non-Null Count  Dtype \n",
      "---  ------     --------------  ----- \n",
      " 0   lat_ori    45901 non-null  object\n",
      " 1   long_ori   45901 non-null  object\n",
      " 2   lat_dest   45901 non-null  object\n",
      " 3   long_dest  45901 non-null  object\n",
      " 4   distance   45901 non-null  object\n",
      " 5   eta        45901 non-null  object\n",
      " 6   timestamp  45901 non-null  object\n",
      " 7   link       45901 non-null  object\n",
      "dtypes: object(8)\n",
      "memory usage: 2.8+ MB\n"
     ]
    }
   ],
   "source": [
    "from_warehouse_df.columns = ['lat_ori', 'long_ori', 'lat_dest', 'long_dest', 'distance', 'eta', 'timestamp', 'link']\n",
    "from_warehouse_df.info()"
   ]
  },
  {
   "cell_type": "code",
   "execution_count": 9,
   "id": "d9f2df23",
   "metadata": {},
   "outputs": [
    {
     "name": "stdout",
     "output_type": "stream",
     "text": [
      "<class 'pandas.core.frame.DataFrame'>\n",
      "RangeIndex: 47616 entries, 0 to 47615\n",
      "Data columns (total 8 columns):\n",
      " #   Column     Non-Null Count  Dtype \n",
      "---  ------     --------------  ----- \n",
      " 0   lat_ori    47616 non-null  object\n",
      " 1   long_ori   47616 non-null  object\n",
      " 2   lat_dest   47616 non-null  object\n",
      " 3   long_dest  47616 non-null  object\n",
      " 4   distance   47616 non-null  object\n",
      " 5   eta        47616 non-null  object\n",
      " 6   timestamp  47616 non-null  object\n",
      " 7   link       47616 non-null  object\n",
      "dtypes: object(8)\n",
      "memory usage: 2.9+ MB\n"
     ]
    }
   ],
   "source": [
    "random_location_df.columns = ['lat_ori', 'long_ori', 'lat_dest', 'long_dest', 'distance', 'eta', 'timestamp', 'link']\n",
    "random_location_df.info()"
   ]
  },
  {
   "cell_type": "markdown",
   "id": "b7b1d07b",
   "metadata": {},
   "source": [
    "#### Remove Unused Columns"
   ]
  },
  {
   "cell_type": "code",
   "execution_count": 10,
   "id": "c3cc5f9c",
   "metadata": {},
   "outputs": [
    {
     "name": "stdout",
     "output_type": "stream",
     "text": [
      "<class 'pandas.core.frame.DataFrame'>\n",
      "RangeIndex: 45901 entries, 0 to 45900\n",
      "Data columns (total 3 columns):\n",
      " #   Column     Non-Null Count  Dtype \n",
      "---  ------     --------------  ----- \n",
      " 0   distance   45901 non-null  object\n",
      " 1   eta        45901 non-null  object\n",
      " 2   timestamp  45901 non-null  object\n",
      "dtypes: object(3)\n",
      "memory usage: 1.1+ MB\n",
      "<class 'pandas.core.frame.DataFrame'>\n",
      "RangeIndex: 47616 entries, 0 to 47615\n",
      "Data columns (total 3 columns):\n",
      " #   Column     Non-Null Count  Dtype \n",
      "---  ------     --------------  ----- \n",
      " 0   distance   47616 non-null  object\n",
      " 1   eta        47616 non-null  object\n",
      " 2   timestamp  47616 non-null  object\n",
      "dtypes: object(3)\n",
      "memory usage: 1.1+ MB\n"
     ]
    }
   ],
   "source": [
    "from_warehouse_df.drop('link', axis=1, inplace=True)\n",
    "random_location_df.drop('link', axis=1, inplace=True)\n",
    "from_warehouse_df.drop('lat_ori', axis=1, inplace=True)\n",
    "random_location_df.drop('lat_ori', axis=1, inplace=True)\n",
    "from_warehouse_df.drop('long_ori', axis=1, inplace=True)\n",
    "random_location_df.drop('long_ori', axis=1, inplace=True)\n",
    "from_warehouse_df.drop('lat_dest', axis=1, inplace=True)\n",
    "random_location_df.drop('lat_dest', axis=1, inplace=True)\n",
    "from_warehouse_df.drop('long_dest', axis=1, inplace=True)\n",
    "random_location_df.drop('long_dest', axis=1, inplace=True)\n",
    "\n",
    "from_warehouse_df.info()\n",
    "random_location_df.info()"
   ]
  },
  {
   "cell_type": "markdown",
   "id": "0e166351",
   "metadata": {},
   "source": [
    "#### Remove Unused Rows"
   ]
  },
  {
   "cell_type": "code",
   "execution_count": null,
   "id": "89f5c5c1",
   "metadata": {},
   "outputs": [
    {
     "name": "stdout",
     "output_type": "stream",
     "text": [
      "<class 'pandas.core.frame.DataFrame'>\n",
      "Index: 45667 entries, 0 to 45900\n",
      "Data columns (total 3 columns):\n",
      " #   Column     Non-Null Count  Dtype \n",
      "---  ------     --------------  ----- \n",
      " 0   distance   45667 non-null  object\n",
      " 1   eta        45667 non-null  object\n",
      " 2   timestamp  45667 non-null  object\n",
      "dtypes: object(3)\n",
      "memory usage: 1.4+ MB\n"
     ]
    }
   ],
   "source": [
    "from_warehouse_df = from_warehouse_df[from_warehouse_df.distance != 'Jarak']\n",
    "from_warehouse_df = from_warehouse_df[from_warehouse_df.distance != 'Data tidak tersedia']\n",
    "from_warehouse_df = from_warehouse_df[from_warehouse_df.eta != 'Waktu Tempuh']\n",
    "from_warehouse_df = from_warehouse_df[from_warehouse_df.timestamp != 'Waktu Penulisan']\n",
    "\n",
    "from_warehouse_df.info()"
   ]
  },
  {
   "cell_type": "code",
   "execution_count": null,
   "id": "929ea1bd",
   "metadata": {},
   "outputs": [
    {
     "name": "stdout",
     "output_type": "stream",
     "text": [
      "<class 'pandas.core.frame.DataFrame'>\n",
      "Index: 47379 entries, 1 to 47615\n",
      "Data columns (total 3 columns):\n",
      " #   Column     Non-Null Count  Dtype \n",
      "---  ------     --------------  ----- \n",
      " 0   distance   47379 non-null  object\n",
      " 1   eta        47379 non-null  object\n",
      " 2   timestamp  47379 non-null  object\n",
      "dtypes: object(3)\n",
      "memory usage: 1.4+ MB\n"
     ]
    }
   ],
   "source": [
    "random_location_df = random_location_df[random_location_df.distance != 'Jarak']\n",
    "random_location_df = random_location_df[random_location_df.distance != 'Data tidak tersedia']\n",
    "random_location_df = random_location_df[random_location_df.eta != 'Waktu Tempuh']\n",
    "random_location_df = random_location_df[random_location_df.timestamp != 'Waktu Penulisan']\n",
    "\n",
    "random_location_df.info()"
   ]
  },
  {
   "cell_type": "markdown",
   "id": "ddfe4eaa",
   "metadata": {},
   "source": [
    "#### Change the Data Types"
   ]
  },
  {
   "cell_type": "code",
   "execution_count": 15,
   "id": "a58e479a",
   "metadata": {},
   "outputs": [],
   "source": [
    "from_warehouse_df.distance = from_warehouse_df.distance.str.replace(' km', '')\n",
    "random_location_df.distance = random_location_df.distance.str.replace(' km', '')\n",
    "from_warehouse_df.distance = from_warehouse_df.distance.str.replace(' m', '')\n",
    "random_location_df.distance = random_location_df.distance.str.replace(' m', '')\n",
    "from_warehouse_df.distance = from_warehouse_df.distance.str.replace(',', '.')\n",
    "random_location_df.distance = random_location_df.distance.str.replace(',', '.')"
   ]
  },
  {
   "cell_type": "code",
   "execution_count": 16,
   "id": "92417479",
   "metadata": {},
   "outputs": [
    {
     "name": "stdout",
     "output_type": "stream",
     "text": [
      "<class 'pandas.core.frame.DataFrame'>\n",
      "Index: 45667 entries, 0 to 45900\n",
      "Data columns (total 3 columns):\n",
      " #   Column     Non-Null Count  Dtype  \n",
      "---  ------     --------------  -----  \n",
      " 0   distance   45667 non-null  float64\n",
      " 1   eta        45667 non-null  object \n",
      " 2   timestamp  45667 non-null  object \n",
      "dtypes: float64(1), object(2)\n",
      "memory usage: 1.4+ MB\n",
      "<class 'pandas.core.frame.DataFrame'>\n",
      "Index: 47379 entries, 1 to 47615\n",
      "Data columns (total 3 columns):\n",
      " #   Column     Non-Null Count  Dtype  \n",
      "---  ------     --------------  -----  \n",
      " 0   distance   47379 non-null  float64\n",
      " 1   eta        47379 non-null  object \n",
      " 2   timestamp  47379 non-null  object \n",
      "dtypes: float64(1), object(2)\n",
      "memory usage: 1.4+ MB\n"
     ]
    }
   ],
   "source": [
    "from_warehouse_df.distance = pd.to_numeric(from_warehouse_df.distance)\n",
    "random_location_df.distance = pd.to_numeric(random_location_df.distance)\n",
    "\n",
    "from_warehouse_df.info()\n",
    "random_location_df.info()"
   ]
  },
  {
   "cell_type": "code",
   "execution_count": 17,
   "id": "46a5ea4f",
   "metadata": {},
   "outputs": [],
   "source": [
    "def convert_to_minutes(duration):\n",
    "    total_minutes = 0\n",
    "    parts = duration.split()\n",
    "    \n",
    "    for i in range(len(parts)):\n",
    "        if 'jam' in parts[i]:\n",
    "            total_minutes += int(parts[i - 1]) * 60\n",
    "        elif 'mnt' in parts[i]:\n",
    "            total_minutes += int(parts[i - 1])\n",
    "            \n",
    "    return total_minutes"
   ]
  },
  {
   "cell_type": "code",
   "execution_count": 18,
   "id": "b590edcb",
   "metadata": {},
   "outputs": [
    {
     "name": "stdout",
     "output_type": "stream",
     "text": [
      "<class 'pandas.core.frame.DataFrame'>\n",
      "Index: 45667 entries, 0 to 45900\n",
      "Data columns (total 3 columns):\n",
      " #   Column     Non-Null Count  Dtype  \n",
      "---  ------     --------------  -----  \n",
      " 0   distance   45667 non-null  float64\n",
      " 1   eta        45667 non-null  int64  \n",
      " 2   timestamp  45667 non-null  object \n",
      "dtypes: float64(1), int64(1), object(1)\n",
      "memory usage: 1.4+ MB\n",
      "<class 'pandas.core.frame.DataFrame'>\n",
      "Index: 47379 entries, 1 to 47615\n",
      "Data columns (total 3 columns):\n",
      " #   Column     Non-Null Count  Dtype  \n",
      "---  ------     --------------  -----  \n",
      " 0   distance   47379 non-null  float64\n",
      " 1   eta        47379 non-null  int64  \n",
      " 2   timestamp  47379 non-null  object \n",
      "dtypes: float64(1), int64(1), object(1)\n",
      "memory usage: 1.4+ MB\n"
     ]
    }
   ],
   "source": [
    "from_warehouse_df.eta = from_warehouse_df.eta.apply(convert_to_minutes)\n",
    "random_location_df.eta = random_location_df.eta.apply(convert_to_minutes)\n",
    "\n",
    "from_warehouse_df.eta = pd.to_numeric(from_warehouse_df.eta)\n",
    "random_location_df.eta = pd.to_numeric(random_location_df.eta)\n",
    "\n",
    "from_warehouse_df.info()\n",
    "random_location_df.info()"
   ]
  },
  {
   "cell_type": "code",
   "execution_count": 19,
   "id": "e069625f",
   "metadata": {},
   "outputs": [
    {
     "name": "stdout",
     "output_type": "stream",
     "text": [
      "<class 'pandas.core.frame.DataFrame'>\n",
      "Index: 45667 entries, 0 to 45900\n",
      "Data columns (total 5 columns):\n",
      " #   Column        Non-Null Count  Dtype  \n",
      "---  ------        --------------  -----  \n",
      " 0   distance      45667 non-null  float64\n",
      " 1   eta           45667 non-null  int64  \n",
      " 2   timestamp     45667 non-null  int32  \n",
      " 3   is_weekend    45667 non-null  bool   \n",
      " 4   is_peak_hour  45667 non-null  bool   \n",
      "dtypes: bool(2), float64(1), int32(1), int64(1)\n",
      "memory usage: 1.3 MB\n",
      "<class 'pandas.core.frame.DataFrame'>\n",
      "Index: 47379 entries, 1 to 47615\n",
      "Data columns (total 5 columns):\n",
      " #   Column        Non-Null Count  Dtype  \n",
      "---  ------        --------------  -----  \n",
      " 0   distance      47379 non-null  float64\n",
      " 1   eta           47379 non-null  int64  \n",
      " 2   timestamp     47379 non-null  int32  \n",
      " 3   is_weekend    47379 non-null  bool   \n",
      " 4   is_peak_hour  47379 non-null  bool   \n",
      "dtypes: bool(2), float64(1), int32(1), int64(1)\n",
      "memory usage: 1.4 MB\n"
     ]
    }
   ],
   "source": [
    "from_warehouse_df.timestamp = pd.to_datetime(from_warehouse_df.timestamp, format='%Y-%m-%d %H:%M:%S')\n",
    "random_location_df.timestamp = pd.to_datetime(random_location_df.timestamp, format='%Y-%m-%d %H:%M:%S')\n",
    "\n",
    "from_warehouse_df['is_weekend'] = (from_warehouse_df['timestamp'].dt.dayofweek >= 5)\n",
    "from_warehouse_df['is_peak_hour'] = ((from_warehouse_df['timestamp'].dt.hour >= 6) & (from_warehouse_df['timestamp'].dt.hour < 11) | (from_warehouse_df['timestamp'].dt.hour >= 16) & (from_warehouse_df['timestamp'].dt.hour < 22))\n",
    "\n",
    "random_location_df['is_weekend'] = (random_location_df['timestamp'].dt.dayofweek >= 5)\n",
    "random_location_df['is_peak_hour'] = ((random_location_df['timestamp'].dt.hour >= 6) & (random_location_df['timestamp'].dt.hour < 11) | (random_location_df['timestamp'].dt.hour >= 16) & (random_location_df['timestamp'].dt.hour < 22))\n",
    "\n",
    "random_location_df['timestamp'] = (random_location_df['timestamp'].dt.hour * 60 +\n",
    "                                   random_location_df['timestamp'].dt.minute)\n",
    "\n",
    "from_warehouse_df['timestamp'] = (from_warehouse_df['timestamp'].dt.hour * 60 +\n",
    "                                  from_warehouse_df['timestamp'].dt.minute)\n",
    "\n",
    "from_warehouse_df.info()\n",
    "random_location_df.info()"
   ]
  },
  {
   "cell_type": "code",
   "execution_count": null,
   "id": "8dc52bdd",
   "metadata": {},
   "outputs": [],
   "source": [
    "from_warehouse_df.to_csv('../Datasets/from_warehouse_v3.csv', index=False)\n",
    "random_location_df.to_csv('../Datasets/random_location_v3.csv', index=False)"
   ]
  },
  {
   "cell_type": "markdown",
   "id": "454ec6bd",
   "metadata": {},
   "source": [
    "## Model Development"
   ]
  },
  {
   "cell_type": "markdown",
   "id": "899d4739",
   "metadata": {},
   "source": [
    "### Prepare the Feature and Target Datasets"
   ]
  },
  {
   "cell_type": "code",
   "execution_count": null,
   "id": "ce12021a",
   "metadata": {},
   "outputs": [
    {
     "name": "stdout",
     "output_type": "stream",
     "text": [
      "<class 'pandas.core.frame.DataFrame'>\n",
      "RangeIndex: 93046 entries, 0 to 93045\n",
      "Data columns (total 4 columns):\n",
      " #   Column        Non-Null Count  Dtype  \n",
      "---  ------        --------------  -----  \n",
      " 0   distance      93046 non-null  float64\n",
      " 1   eta           93046 non-null  int64  \n",
      " 2   is_weekend    93046 non-null  bool   \n",
      " 3   is_peak_hour  93046 non-null  bool   \n",
      "dtypes: bool(2), float64(1), int64(1)\n",
      "memory usage: 1.6 MB\n"
     ]
    }
   ],
   "source": [
    "df = pd.concat([from_warehouse_df, random_location_df], ignore_index=True)\n",
    "df = df.drop(['timestamp'], axis=1)\n",
    "\n",
    "df.info()\n",
    "\n",
    "df.to_csv('../Datasets/all_data_v3.csv', index=False)"
   ]
  },
  {
   "cell_type": "code",
   "execution_count": null,
   "id": "bf7a0aad",
   "metadata": {},
   "outputs": [
    {
     "data": {
      "text/html": [
       "<div>\n",
       "<style scoped>\n",
       "    .dataframe tbody tr th:only-of-type {\n",
       "        vertical-align: middle;\n",
       "    }\n",
       "\n",
       "    .dataframe tbody tr th {\n",
       "        vertical-align: top;\n",
       "    }\n",
       "\n",
       "    .dataframe thead th {\n",
       "        text-align: right;\n",
       "    }\n",
       "</style>\n",
       "<table border=\"1\" class=\"dataframe\">\n",
       "  <thead>\n",
       "    <tr style=\"text-align: right;\">\n",
       "      <th></th>\n",
       "      <th>distance</th>\n",
       "      <th>eta</th>\n",
       "    </tr>\n",
       "  </thead>\n",
       "  <tbody>\n",
       "    <tr>\n",
       "      <th>count</th>\n",
       "      <td>93011.000000</td>\n",
       "      <td>93011.000000</td>\n",
       "    </tr>\n",
       "    <tr>\n",
       "      <th>mean</th>\n",
       "      <td>34.988036</td>\n",
       "      <td>53.309490</td>\n",
       "    </tr>\n",
       "    <tr>\n",
       "      <th>std</th>\n",
       "      <td>15.653999</td>\n",
       "      <td>20.965125</td>\n",
       "    </tr>\n",
       "    <tr>\n",
       "      <th>min</th>\n",
       "      <td>1.000000</td>\n",
       "      <td>3.000000</td>\n",
       "    </tr>\n",
       "    <tr>\n",
       "      <th>25%</th>\n",
       "      <td>22.900000</td>\n",
       "      <td>39.000000</td>\n",
       "    </tr>\n",
       "    <tr>\n",
       "      <th>50%</th>\n",
       "      <td>34.400000</td>\n",
       "      <td>51.000000</td>\n",
       "    </tr>\n",
       "    <tr>\n",
       "      <th>75%</th>\n",
       "      <td>46.000000</td>\n",
       "      <td>64.000000</td>\n",
       "    </tr>\n",
       "    <tr>\n",
       "      <th>max</th>\n",
       "      <td>99.800000</td>\n",
       "      <td>210.000000</td>\n",
       "    </tr>\n",
       "  </tbody>\n",
       "</table>\n",
       "</div>"
      ],
      "text/plain": [
       "           distance           eta\n",
       "count  93011.000000  93011.000000\n",
       "mean      34.988036     53.309490\n",
       "std       15.653999     20.965125\n",
       "min        1.000000      3.000000\n",
       "25%       22.900000     39.000000\n",
       "50%       34.400000     51.000000\n",
       "75%       46.000000     64.000000\n",
       "max       99.800000    210.000000"
      ]
     },
     "execution_count": 24,
     "metadata": {},
     "output_type": "execute_result"
    }
   ],
   "source": [
    "# Remove rows with distance > 100\n",
    "df = df[df.distance <= 100]\n",
    "df.describe()"
   ]
  },
  {
   "cell_type": "markdown",
   "id": "8e7dcaf4",
   "metadata": {},
   "source": [
    "#### Split the Dataset into Training and Testing"
   ]
  },
  {
   "cell_type": "code",
   "execution_count": 25,
   "id": "1af8cf73",
   "metadata": {},
   "outputs": [
    {
     "name": "stdout",
     "output_type": "stream",
     "text": [
      "<class 'pandas.core.frame.DataFrame'>\n",
      "Index: 74408 entries, 31937 to 15797\n",
      "Data columns (total 3 columns):\n",
      " #   Column        Non-Null Count  Dtype  \n",
      "---  ------        --------------  -----  \n",
      " 0   distance      74408 non-null  float64\n",
      " 1   is_weekend    74408 non-null  bool   \n",
      " 2   is_peak_hour  74408 non-null  bool   \n",
      "dtypes: bool(2), float64(1)\n",
      "memory usage: 1.3 MB\n",
      "<class 'pandas.core.series.Series'>\n",
      "Index: 74408 entries, 31937 to 15797\n",
      "Series name: eta\n",
      "Non-Null Count  Dtype\n",
      "--------------  -----\n",
      "74408 non-null  int64\n",
      "dtypes: int64(1)\n",
      "memory usage: 1.1 MB\n"
     ]
    }
   ],
   "source": [
    "x_train, x_test, y_train, y_test = train_test_split(df.drop(['eta'], axis=1), df['eta'], test_size=0.2, random_state=42)\n",
    "\n",
    "x_train.info()\n",
    "y_train.info()"
   ]
  },
  {
   "cell_type": "markdown",
   "id": "f96c2eaf",
   "metadata": {},
   "source": [
    "#### Model Building"
   ]
  },
  {
   "cell_type": "code",
   "execution_count": 27,
   "id": "f533ceb3",
   "metadata": {},
   "outputs": [
    {
     "name": "stdout",
     "output_type": "stream",
     "text": [
      "Epoch 1/1000\n"
     ]
    },
    {
     "name": "stderr",
     "output_type": "stream",
     "text": [
      "c:\\Users\\mbint\\anaconda3\\envs\\bangkit\\Lib\\site-packages\\keras\\src\\layers\\core\\dense.py:87: UserWarning: Do not pass an `input_shape`/`input_dim` argument to a layer. When using Sequential models, prefer using an `Input(shape)` object as the first layer in the model instead.\n",
      "  super().__init__(activity_regularizer=activity_regularizer, **kwargs)\n"
     ]
    },
    {
     "name": "stdout",
     "output_type": "stream",
     "text": [
      "\u001b[1m1163/1163\u001b[0m \u001b[32m━━━━━━━━━━━━━━━━━━━━\u001b[0m\u001b[37m\u001b[0m \u001b[1m2s\u001b[0m 1ms/step - loss: 0.8304 - val_loss: 0.5636\n",
      "Epoch 2/1000\n",
      "\u001b[1m1163/1163\u001b[0m \u001b[32m━━━━━━━━━━━━━━━━━━━━\u001b[0m\u001b[37m\u001b[0m \u001b[1m1s\u001b[0m 1ms/step - loss: 0.5408 - val_loss: 0.5157\n",
      "Epoch 3/1000\n",
      "\u001b[1m1163/1163\u001b[0m \u001b[32m━━━━━━━━━━━━━━━━━━━━\u001b[0m\u001b[37m\u001b[0m \u001b[1m1s\u001b[0m 970us/step - loss: 0.5117 - val_loss: 0.4992\n",
      "Epoch 4/1000\n",
      "\u001b[1m1163/1163\u001b[0m \u001b[32m━━━━━━━━━━━━━━━━━━━━\u001b[0m\u001b[37m\u001b[0m \u001b[1m1s\u001b[0m 989us/step - loss: 0.5016 - val_loss: 0.5023\n",
      "Epoch 5/1000\n",
      "\u001b[1m1163/1163\u001b[0m \u001b[32m━━━━━━━━━━━━━━━━━━━━\u001b[0m\u001b[37m\u001b[0m \u001b[1m1s\u001b[0m 952us/step - loss: 0.4997 - val_loss: 0.4933\n",
      "Epoch 6/1000\n",
      "\u001b[1m1163/1163\u001b[0m \u001b[32m━━━━━━━━━━━━━━━━━━━━\u001b[0m\u001b[37m\u001b[0m \u001b[1m1s\u001b[0m 955us/step - loss: 0.4959 - val_loss: 0.4939\n",
      "Epoch 7/1000\n",
      "\u001b[1m1163/1163\u001b[0m \u001b[32m━━━━━━━━━━━━━━━━━━━━\u001b[0m\u001b[37m\u001b[0m \u001b[1m1s\u001b[0m 922us/step - loss: 0.4937 - val_loss: 0.4922\n",
      "Epoch 8/1000\n",
      "\u001b[1m1163/1163\u001b[0m \u001b[32m━━━━━━━━━━━━━━━━━━━━\u001b[0m\u001b[37m\u001b[0m \u001b[1m1s\u001b[0m 983us/step - loss: 0.4931 - val_loss: 0.4898\n",
      "Epoch 9/1000\n",
      "\u001b[1m1163/1163\u001b[0m \u001b[32m━━━━━━━━━━━━━━━━━━━━\u001b[0m\u001b[37m\u001b[0m \u001b[1m1s\u001b[0m 949us/step - loss: 0.4937 - val_loss: 0.5037\n",
      "Epoch 10/1000\n",
      "\u001b[1m1163/1163\u001b[0m \u001b[32m━━━━━━━━━━━━━━━━━━━━\u001b[0m\u001b[37m\u001b[0m \u001b[1m1s\u001b[0m 994us/step - loss: 0.4927 - val_loss: 0.5044\n",
      "Epoch 11/1000\n",
      "\u001b[1m1163/1163\u001b[0m \u001b[32m━━━━━━━━━━━━━━━━━━━━\u001b[0m\u001b[37m\u001b[0m \u001b[1m1s\u001b[0m 963us/step - loss: 0.4911 - val_loss: 0.4961\n",
      "Epoch 12/1000\n",
      "\u001b[1m1163/1163\u001b[0m \u001b[32m━━━━━━━━━━━━━━━━━━━━\u001b[0m\u001b[37m\u001b[0m \u001b[1m1s\u001b[0m 1ms/step - loss: 0.4941 - val_loss: 0.4952\n",
      "Epoch 13/1000\n",
      "\u001b[1m1163/1163\u001b[0m \u001b[32m━━━━━━━━━━━━━━━━━━━━\u001b[0m\u001b[37m\u001b[0m \u001b[1m1s\u001b[0m 1ms/step - loss: 0.4904 - val_loss: 0.4940\n",
      "Epoch 14/1000\n",
      "\u001b[1m1163/1163\u001b[0m \u001b[32m━━━━━━━━━━━━━━━━━━━━\u001b[0m\u001b[37m\u001b[0m \u001b[1m1s\u001b[0m 990us/step - loss: 0.4919 - val_loss: 0.4949\n",
      "Epoch 15/1000\n",
      "\u001b[1m1163/1163\u001b[0m \u001b[32m━━━━━━━━━━━━━━━━━━━━\u001b[0m\u001b[37m\u001b[0m \u001b[1m1s\u001b[0m 949us/step - loss: 0.4976 - val_loss: 0.5003\n",
      "Epoch 16/1000\n",
      "\u001b[1m1163/1163\u001b[0m \u001b[32m━━━━━━━━━━━━━━━━━━━━\u001b[0m\u001b[37m\u001b[0m \u001b[1m1s\u001b[0m 975us/step - loss: 0.4927 - val_loss: 0.4924\n",
      "Epoch 17/1000\n",
      "\u001b[1m1163/1163\u001b[0m \u001b[32m━━━━━━━━━━━━━━━━━━━━\u001b[0m\u001b[37m\u001b[0m \u001b[1m1s\u001b[0m 953us/step - loss: 0.4904 - val_loss: 0.5086\n",
      "Epoch 18/1000\n",
      "\u001b[1m1163/1163\u001b[0m \u001b[32m━━━━━━━━━━━━━━━━━━━━\u001b[0m\u001b[37m\u001b[0m \u001b[1m1s\u001b[0m 1ms/step - loss: 0.4934 - val_loss: 0.5088\n"
     ]
    }
   ],
   "source": [
    "# Scaling X (fit & transform for training, transform only for testing)\n",
    "scaler = StandardScaler()\n",
    "x_train_scaled = scaler.fit_transform(x_train)\n",
    "x_test_scaled = scaler.transform(x_test)\n",
    "\n",
    "# Scaling Y (target)\n",
    "y_scaler = StandardScaler()\n",
    "y_train_scaled = y_scaler.fit_transform(y_train.to_numpy().reshape(-1, 1)).flatten()\n",
    "y_test_scaled = y_scaler.transform(y_test.to_numpy().reshape(-1, 1)).flatten()\n",
    "\n",
    "# Build the model\n",
    "model = tf.keras.Sequential([\n",
    "    tf.keras.layers.Dense(128, activation='relu', kernel_regularizer=tf.keras.regularizers.l2(0.001), input_shape=(x_train_scaled.shape[1],)),\n",
    "    tf.keras.layers.Dense(64, activation='relu', kernel_regularizer=tf.keras.regularizers.l2(0.005)),\n",
    "    tf.keras.layers.Dropout(0.4),\n",
    "    tf.keras.layers.Dense(32, activation='relu', kernel_regularizer=tf.keras.regularizers.l2(0.001)),\n",
    "    tf.keras.layers.Dense(1)\n",
    "])\n",
    "\n",
    "# Compile the model\n",
    "optimizer = tf.keras.optimizers.SGD(momentum=0.9)\n",
    "model.compile(optimizer=optimizer, loss='mae')\n",
    "\n",
    "# Train the model with early stopping\n",
    "history = model.fit(\n",
    "    x_train_scaled, y_train_scaled,\n",
    "    epochs=1000,\n",
    "    batch_size=64,\n",
    "    verbose=1,\n",
    "    validation_data=(x_test_scaled, y_test_scaled),\n",
    "    callbacks=[tf.keras.callbacks.EarlyStopping(monitor='val_loss', patience=10, restore_best_weights=True)]\n",
    ")"
   ]
  },
  {
   "cell_type": "markdown",
   "id": "72e97947",
   "metadata": {},
   "source": [
    "#### Evaluate the Model"
   ]
  },
  {
   "cell_type": "code",
   "execution_count": null,
   "id": "71c78146",
   "metadata": {},
   "outputs": [
    {
     "name": "stdout",
     "output_type": "stream",
     "text": [
      "\u001b[1m582/582\u001b[0m \u001b[32m━━━━━━━━━━━━━━━━━━━━\u001b[0m\u001b[37m\u001b[0m \u001b[1m0s\u001b[0m 767us/step\n",
      "MAE on actual scale: 10.01\n"
     ]
    }
   ],
   "source": [
    "# Predict and inverse transform to original scale\n",
    "y_pred_scaled = model.predict(x_test_scaled)\n",
    "y_pred = y_scaler.inverse_transform(y_pred_scaled)\n",
    "\n",
    "# Optional: convert y_test back to array for evaluation/plotting\n",
    "y_test_actual = y_test.to_numpy()\n",
    "\n",
    "from sklearn.metrics import mean_absolute_error\n",
    "mae = mean_absolute_error(y_test_actual, y_pred)\n",
    "print(f\"MAE on actual scale: {mae:.2f} minutes\")"
   ]
  },
  {
   "cell_type": "markdown",
   "id": "51eb8516",
   "metadata": {},
   "source": [
    "#### Evaluate Actual vs Predicted Values"
   ]
  },
  {
   "cell_type": "code",
   "execution_count": 29,
   "id": "c573a1ba",
   "metadata": {},
   "outputs": [
    {
     "data": {
      "image/png": "[encoded data removed]",
      "text/plain": [
       "<Figure size 1000x500 with 1 Axes>"
      ]
     },
     "metadata": {},
     "output_type": "display_data"
    }
   ],
   "source": [
    "import matplotlib.pyplot as plt\n",
    "\n",
    "plt.figure(figsize=(10,5))\n",
    "plt.plot(y_test_actual[:500], label='Actual')\n",
    "plt.plot(y_pred[:500], label='Predicted')\n",
    "plt.legend()\n",
    "plt.title('Actual vs Predicted (First 100 Samples)')\n",
    "plt.xlabel('Sample Index')\n",
    "plt.ylabel('Target Value')\n",
    "plt.grid(True)\n",
    "plt.show()"
   ]
  },
  {
   "cell_type": "markdown",
   "id": "05fe9404",
   "metadata": {},
   "source": [
    "#### Test the model on sample data"
   ]
  },
  {
   "cell_type": "code",
   "execution_count": null,
   "id": "404fd1a4",
   "metadata": {},
   "outputs": [
    {
     "name": "stdout",
     "output_type": "stream",
     "text": [
      "\u001b[1m1/1\u001b[0m \u001b[32m━━━━━━━━━━━━━━━━━━━━\u001b[0m\u001b[37m\u001b[0m \u001b[1m0s\u001b[0m 48ms/step\n",
      "Predicted value (actual scale): 527.6442\n"
     ]
    }
   ],
   "source": [
    "sample_input = np.array([31.4, False, False])\n",
    "\n",
    "# Pastikan input jadi 2D array\n",
    "sample_input = sample_input.reshape(1, -1)\n",
    "\n",
    "# Prediksi (output masih dalam skala scaled target)\n",
    "pred_scaled = model.predict(sample_input)\n",
    "\n",
    "# Ubah ke skala asli\n",
    "pred_actual = y_scaler.inverse_transform(pred_scaled)\n",
    "\n",
    "print(\"Predicted value (actual scale):\", pred_actual[0][0])"
   ]
  },
  {
   "cell_type": "code",
   "execution_count": null,
   "id": "0ae481ff",
   "metadata": {},
   "outputs": [],
   "source": []
  }
 ],
 "metadata": {
  "kernelspec": {
   "display_name": "bangkit",
   "language": "python",
   "name": "python3"
  },
  "language_info": {
   "codemirror_mode": {
    "name": "ipython",
    "version": 3
   },
   "file_extension": ".py",
   "mimetype": "text/x-python",
   "name": "python",
   "nbconvert_exporter": "python",
   "pygments_lexer": "ipython3",
   "version": "3.12.4"
  }
 },
 "nbformat": 4,
 "nbformat_minor": 5
}
