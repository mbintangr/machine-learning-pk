{
 "cells": [
  {
   "cell_type": "markdown",
   "id": "bd06992e",
   "metadata": {},
   "source": [
    "# Estimated Time Arrival"
   ]
  },
  {
   "cell_type": "markdown",
   "id": "f42ec269",
   "metadata": {},
   "source": [
    "## Import Required Libraries"
   ]
  },
  {
   "cell_type": "code",
   "execution_count": 1,
   "id": "095de404",
   "metadata": {},
   "outputs": [],
   "source": [
    "import pandas as pd\n",
    "import numpy as np\n",
    "import tensorflow as tf\n",
    "from sklearn.model_selection import train_test_split\n",
    "from sklearn.preprocessing import StandardScaler"
   ]
  },
  {
   "cell_type": "markdown",
   "id": "b7d2e6f0",
   "metadata": {},
   "source": [
    "## Preprocessing"
   ]
  },
  {
   "cell_type": "code",
   "execution_count": 2,
   "id": "8332431f",
   "metadata": {},
   "outputs": [
    {
     "name": "stdout",
     "output_type": "stream",
     "text": [
      "19.88230478486011\n"
     ]
    }
   ],
   "source": [
    "import numpy as np\n",
    "\n",
    "def haversine_distance(lat1, lon1, lat2, lon2):\n",
    "    # Convert degrees to radians\n",
    "    lat1, lon1, lat2, lon2 = map(np.radians, [lat1, lon1, lat2, lon2])\n",
    "    \n",
    "    # Earth radius in kilometers\n",
    "    R = 6371  \n",
    "\n",
    "    # Differences\n",
    "    dlat = lat2 - lat1\n",
    "    dlon = lon2 - lon1\n",
    "\n",
    "    # Haversine formula\n",
    "    a = np.sin(dlat / 2)**2 + np.cos(lat1) * np.cos(lat2) * np.sin(dlon / 2)**2\n",
    "    c = 2 * np.arcsin(np.sqrt(a))\n",
    "    \n",
    "    distance_km = R * c\n",
    "    return distance_km\n",
    "\n",
    "print(haversine_distance(-6.395965, 106.897527, -6.444471, 106.72434))"
   ]
  },
  {
   "cell_type": "markdown",
   "id": "5ae3fc9d",
   "metadata": {},
   "source": [
    "### Load Datasets"
   ]
  },
  {
   "cell_type": "code",
   "execution_count": 3,
   "id": "4e96abc6",
   "metadata": {},
   "outputs": [
    {
     "data": {
      "text/html": [
       "<div>\n",
       "<style scoped>\n",
       "    .dataframe tbody tr th:only-of-type {\n",
       "        vertical-align: middle;\n",
       "    }\n",
       "\n",
       "    .dataframe tbody tr th {\n",
       "        vertical-align: top;\n",
       "    }\n",
       "\n",
       "    .dataframe thead th {\n",
       "        text-align: right;\n",
       "    }\n",
       "</style>\n",
       "<table border=\"1\" class=\"dataframe\">\n",
       "  <thead>\n",
       "    <tr style=\"text-align: right;\">\n",
       "      <th></th>\n",
       "      <th>lat_origin</th>\n",
       "      <th>long_origin</th>\n",
       "      <th>lat_destination</th>\n",
       "      <th>long_destination</th>\n",
       "      <th>Jarak</th>\n",
       "      <th>Waktu Tempuh</th>\n",
       "      <th>Waktu Penulisan</th>\n",
       "      <th>Link</th>\n",
       "    </tr>\n",
       "  </thead>\n",
       "  <tbody>\n",
       "    <tr>\n",
       "      <th>0</th>\n",
       "      <td>-6.395965</td>\n",
       "      <td>106.897527</td>\n",
       "      <td>-6.444471</td>\n",
       "      <td>106.72434</td>\n",
       "      <td>40,6 km</td>\n",
       "      <td>1 jam 2 mnt</td>\n",
       "      <td>2025-03-20 10:06:55</td>\n",
       "      <td>https://www.google.com/maps/dir/'-6.395965,106...</td>\n",
       "    </tr>\n",
       "    <tr>\n",
       "      <th>1</th>\n",
       "      <td>-6.395965</td>\n",
       "      <td>106.897527</td>\n",
       "      <td>-6.444471</td>\n",
       "      <td>106.72434</td>\n",
       "      <td>50,0 km</td>\n",
       "      <td>1 jam 2 mnt</td>\n",
       "      <td>2025-03-20 10:06:56</td>\n",
       "      <td>https://www.google.com/maps/dir/'-6.395965,106...</td>\n",
       "    </tr>\n",
       "    <tr>\n",
       "      <th>2</th>\n",
       "      <td>-6.395965</td>\n",
       "      <td>106.897527</td>\n",
       "      <td>-6.16938</td>\n",
       "      <td>106.609849</td>\n",
       "      <td>55,6 km</td>\n",
       "      <td>1 jam 4 mnt</td>\n",
       "      <td>2025-03-20 10:07:16</td>\n",
       "      <td>https://www.google.com/maps/dir/'-6.395965,106...</td>\n",
       "    </tr>\n",
       "    <tr>\n",
       "      <th>3</th>\n",
       "      <td>-6.395965</td>\n",
       "      <td>106.897527</td>\n",
       "      <td>-6.16938</td>\n",
       "      <td>106.609849</td>\n",
       "      <td>55,6 km</td>\n",
       "      <td>1 jam 6 mnt</td>\n",
       "      <td>2025-03-20 10:07:16</td>\n",
       "      <td>https://www.google.com/maps/dir/'-6.395965,106...</td>\n",
       "    </tr>\n",
       "    <tr>\n",
       "      <th>4</th>\n",
       "      <td>-6.395965</td>\n",
       "      <td>106.897527</td>\n",
       "      <td>-6.245515</td>\n",
       "      <td>106.963095</td>\n",
       "      <td>28,1 km</td>\n",
       "      <td>40 mnt</td>\n",
       "      <td>2025-03-20 10:07:36</td>\n",
       "      <td>https://www.google.com/maps/dir/'-6.395965,106...</td>\n",
       "    </tr>\n",
       "  </tbody>\n",
       "</table>\n",
       "</div>"
      ],
      "text/plain": [
       "  lat_origin long_origin lat_destination long_destination    Jarak  \\\n",
       "0  -6.395965  106.897527       -6.444471        106.72434  40,6 km   \n",
       "1  -6.395965  106.897527       -6.444471        106.72434  50,0 km   \n",
       "2  -6.395965  106.897527        -6.16938       106.609849  55,6 km   \n",
       "3  -6.395965  106.897527        -6.16938       106.609849  55,6 km   \n",
       "4  -6.395965  106.897527       -6.245515       106.963095  28,1 km   \n",
       "\n",
       "  Waktu Tempuh      Waktu Penulisan  \\\n",
       "0  1 jam 2 mnt  2025-03-20 10:06:55   \n",
       "1  1 jam 2 mnt  2025-03-20 10:06:56   \n",
       "2  1 jam 4 mnt  2025-03-20 10:07:16   \n",
       "3  1 jam 6 mnt  2025-03-20 10:07:16   \n",
       "4       40 mnt  2025-03-20 10:07:36   \n",
       "\n",
       "                                                Link  \n",
       "0  https://www.google.com/maps/dir/'-6.395965,106...  \n",
       "1  https://www.google.com/maps/dir/'-6.395965,106...  \n",
       "2  https://www.google.com/maps/dir/'-6.395965,106...  \n",
       "3  https://www.google.com/maps/dir/'-6.395965,106...  \n",
       "4  https://www.google.com/maps/dir/'-6.395965,106...  "
      ]
     },
     "execution_count": 3,
     "metadata": {},
     "output_type": "execute_result"
    }
   ],
   "source": [
    "from_warehouse_df = pd.read_csv('../Datasets/results-fromwarehouse.csv')\n",
    "from_warehouse_df.head()"
   ]
  },
  {
   "cell_type": "code",
   "execution_count": 4,
   "id": "64517346",
   "metadata": {},
   "outputs": [
    {
     "data": {
      "text/html": [
       "<div>\n",
       "<style scoped>\n",
       "    .dataframe tbody tr th:only-of-type {\n",
       "        vertical-align: middle;\n",
       "    }\n",
       "\n",
       "    .dataframe tbody tr th {\n",
       "        vertical-align: top;\n",
       "    }\n",
       "\n",
       "    .dataframe thead th {\n",
       "        text-align: right;\n",
       "    }\n",
       "</style>\n",
       "<table border=\"1\" class=\"dataframe\">\n",
       "  <thead>\n",
       "    <tr style=\"text-align: right;\">\n",
       "      <th></th>\n",
       "      <th>lat_origin</th>\n",
       "      <th>long_origin</th>\n",
       "      <th>lat_destination</th>\n",
       "      <th>long_destination</th>\n",
       "      <th>Jarak</th>\n",
       "      <th>Waktu Tempuh</th>\n",
       "      <th>Waktu Penulisan</th>\n",
       "      <th>Link</th>\n",
       "    </tr>\n",
       "  </thead>\n",
       "  <tbody>\n",
       "    <tr>\n",
       "      <th>0</th>\n",
       "      <td>lat_origin</td>\n",
       "      <td>long_origin</td>\n",
       "      <td>lat_destination</td>\n",
       "      <td>long_destination</td>\n",
       "      <td>Jarak</td>\n",
       "      <td>Waktu Tempuh</td>\n",
       "      <td>Waktu Penulisan</td>\n",
       "      <td>Link</td>\n",
       "    </tr>\n",
       "    <tr>\n",
       "      <th>1</th>\n",
       "      <td>-6.403632</td>\n",
       "      <td>106.875937</td>\n",
       "      <td>-6.47717</td>\n",
       "      <td>106.860436</td>\n",
       "      <td>11,5 km</td>\n",
       "      <td>29 mnt</td>\n",
       "      <td>2025-03-20 10:00:20</td>\n",
       "      <td>https://www.google.com/maps/dir/'-6.403632,106...</td>\n",
       "    </tr>\n",
       "    <tr>\n",
       "      <th>2</th>\n",
       "      <td>-6.403632</td>\n",
       "      <td>106.875937</td>\n",
       "      <td>-6.47717</td>\n",
       "      <td>106.860436</td>\n",
       "      <td>15,7 km</td>\n",
       "      <td>29 mnt</td>\n",
       "      <td>2025-03-20 10:00:21</td>\n",
       "      <td>https://www.google.com/maps/dir/'-6.403632,106...</td>\n",
       "    </tr>\n",
       "    <tr>\n",
       "      <th>3</th>\n",
       "      <td>-6.277224</td>\n",
       "      <td>106.830669</td>\n",
       "      <td>-6.227915</td>\n",
       "      <td>106.969559</td>\n",
       "      <td>27,4 km</td>\n",
       "      <td>47 mnt</td>\n",
       "      <td>2025-03-20 10:00:38</td>\n",
       "      <td>https://www.google.com/maps/dir/'-6.277224,106...</td>\n",
       "    </tr>\n",
       "    <tr>\n",
       "      <th>4</th>\n",
       "      <td>-6.277224</td>\n",
       "      <td>106.830669</td>\n",
       "      <td>-6.227915</td>\n",
       "      <td>106.969559</td>\n",
       "      <td>27,2 km</td>\n",
       "      <td>49 mnt</td>\n",
       "      <td>2025-03-20 10:00:38</td>\n",
       "      <td>https://www.google.com/maps/dir/'-6.277224,106...</td>\n",
       "    </tr>\n",
       "  </tbody>\n",
       "</table>\n",
       "</div>"
      ],
      "text/plain": [
       "   lat_origin  long_origin  lat_destination  long_destination    Jarak  \\\n",
       "0  lat_origin  long_origin  lat_destination  long_destination    Jarak   \n",
       "1   -6.403632   106.875937         -6.47717        106.860436  11,5 km   \n",
       "2   -6.403632   106.875937         -6.47717        106.860436  15,7 km   \n",
       "3   -6.277224   106.830669        -6.227915        106.969559  27,4 km   \n",
       "4   -6.277224   106.830669        -6.227915        106.969559  27,2 km   \n",
       "\n",
       "   Waktu Tempuh      Waktu Penulisan  \\\n",
       "0  Waktu Tempuh      Waktu Penulisan   \n",
       "1        29 mnt  2025-03-20 10:00:20   \n",
       "2        29 mnt  2025-03-20 10:00:21   \n",
       "3        47 mnt  2025-03-20 10:00:38   \n",
       "4        49 mnt  2025-03-20 10:00:38   \n",
       "\n",
       "                                                Link  \n",
       "0                                               Link  \n",
       "1  https://www.google.com/maps/dir/'-6.403632,106...  \n",
       "2  https://www.google.com/maps/dir/'-6.403632,106...  \n",
       "3  https://www.google.com/maps/dir/'-6.277224,106...  \n",
       "4  https://www.google.com/maps/dir/'-6.277224,106...  "
      ]
     },
     "execution_count": 4,
     "metadata": {},
     "output_type": "execute_result"
    }
   ],
   "source": [
    "random_location_df = pd.read_csv('../Datasets/results-allrandom.csv')\n",
    "random_location_df.head()"
   ]
  },
  {
   "cell_type": "markdown",
   "id": "d7ae1d6d",
   "metadata": {},
   "source": [
    "### Check the Dataset Stats"
   ]
  },
  {
   "cell_type": "markdown",
   "id": "e3eaf944",
   "metadata": {},
   "source": [
    "#### from_warehouse_df"
   ]
  },
  {
   "cell_type": "code",
   "execution_count": 5,
   "id": "ba2986b6",
   "metadata": {},
   "outputs": [
    {
     "data": {
      "text/html": [
       "<div>\n",
       "<style scoped>\n",
       "    .dataframe tbody tr th:only-of-type {\n",
       "        vertical-align: middle;\n",
       "    }\n",
       "\n",
       "    .dataframe tbody tr th {\n",
       "        vertical-align: top;\n",
       "    }\n",
       "\n",
       "    .dataframe thead th {\n",
       "        text-align: right;\n",
       "    }\n",
       "</style>\n",
       "<table border=\"1\" class=\"dataframe\">\n",
       "  <thead>\n",
       "    <tr style=\"text-align: right;\">\n",
       "      <th></th>\n",
       "      <th>lat_origin</th>\n",
       "      <th>long_origin</th>\n",
       "      <th>lat_destination</th>\n",
       "      <th>long_destination</th>\n",
       "      <th>Jarak</th>\n",
       "      <th>Waktu Tempuh</th>\n",
       "      <th>Waktu Penulisan</th>\n",
       "      <th>Link</th>\n",
       "    </tr>\n",
       "  </thead>\n",
       "  <tbody>\n",
       "    <tr>\n",
       "      <th>count</th>\n",
       "      <td>45901</td>\n",
       "      <td>45901</td>\n",
       "      <td>45901</td>\n",
       "      <td>45901</td>\n",
       "      <td>45901</td>\n",
       "      <td>45901</td>\n",
       "      <td>45901</td>\n",
       "      <td>45901</td>\n",
       "    </tr>\n",
       "    <tr>\n",
       "      <th>unique</th>\n",
       "      <td>2</td>\n",
       "      <td>2</td>\n",
       "      <td>24270</td>\n",
       "      <td>24265</td>\n",
       "      <td>694</td>\n",
       "      <td>146</td>\n",
       "      <td>34308</td>\n",
       "      <td>27689</td>\n",
       "    </tr>\n",
       "    <tr>\n",
       "      <th>top</th>\n",
       "      <td>-6.395965</td>\n",
       "      <td>106.897527</td>\n",
       "      <td>lat_destination</td>\n",
       "      <td>long_destination</td>\n",
       "      <td>Jarak</td>\n",
       "      <td>48 mnt</td>\n",
       "      <td>Waktu Penulisan</td>\n",
       "      <td>Link</td>\n",
       "    </tr>\n",
       "    <tr>\n",
       "      <th>freq</th>\n",
       "      <td>45668</td>\n",
       "      <td>45668</td>\n",
       "      <td>233</td>\n",
       "      <td>233</td>\n",
       "      <td>233</td>\n",
       "      <td>1316</td>\n",
       "      <td>233</td>\n",
       "      <td>233</td>\n",
       "    </tr>\n",
       "  </tbody>\n",
       "</table>\n",
       "</div>"
      ],
      "text/plain": [
       "       lat_origin long_origin  lat_destination  long_destination  Jarak  \\\n",
       "count       45901       45901            45901             45901  45901   \n",
       "unique          2           2            24270             24265    694   \n",
       "top     -6.395965  106.897527  lat_destination  long_destination  Jarak   \n",
       "freq        45668       45668              233               233    233   \n",
       "\n",
       "       Waktu Tempuh  Waktu Penulisan   Link  \n",
       "count         45901            45901  45901  \n",
       "unique          146            34308  27689  \n",
       "top          48 mnt  Waktu Penulisan   Link  \n",
       "freq           1316              233    233  "
      ]
     },
     "execution_count": 5,
     "metadata": {},
     "output_type": "execute_result"
    }
   ],
   "source": [
    "from_warehouse_df.describe()"
   ]
  },
  {
   "cell_type": "code",
   "execution_count": 6,
   "id": "7e3e8d01",
   "metadata": {},
   "outputs": [
    {
     "name": "stdout",
     "output_type": "stream",
     "text": [
      "<class 'pandas.core.frame.DataFrame'>\n",
      "RangeIndex: 45901 entries, 0 to 45900\n",
      "Data columns (total 8 columns):\n",
      " #   Column            Non-Null Count  Dtype \n",
      "---  ------            --------------  ----- \n",
      " 0   lat_origin        45901 non-null  object\n",
      " 1   long_origin       45901 non-null  object\n",
      " 2   lat_destination   45901 non-null  object\n",
      " 3   long_destination  45901 non-null  object\n",
      " 4   Jarak             45901 non-null  object\n",
      " 5   Waktu Tempuh      45901 non-null  object\n",
      " 6   Waktu Penulisan   45901 non-null  object\n",
      " 7   Link              45901 non-null  object\n",
      "dtypes: object(8)\n",
      "memory usage: 2.8+ MB\n"
     ]
    }
   ],
   "source": [
    "from_warehouse_df.info()"
   ]
  },
  {
   "cell_type": "markdown",
   "id": "676d4f2b",
   "metadata": {},
   "source": [
    "#### random_location_df"
   ]
  },
  {
   "cell_type": "code",
   "execution_count": 7,
   "id": "4f9deed8",
   "metadata": {},
   "outputs": [
    {
     "data": {
      "text/html": [
       "<div>\n",
       "<style scoped>\n",
       "    .dataframe tbody tr th:only-of-type {\n",
       "        vertical-align: middle;\n",
       "    }\n",
       "\n",
       "    .dataframe tbody tr th {\n",
       "        vertical-align: top;\n",
       "    }\n",
       "\n",
       "    .dataframe thead th {\n",
       "        text-align: right;\n",
       "    }\n",
       "</style>\n",
       "<table border=\"1\" class=\"dataframe\">\n",
       "  <thead>\n",
       "    <tr style=\"text-align: right;\">\n",
       "      <th></th>\n",
       "      <th>lat_origin</th>\n",
       "      <th>long_origin</th>\n",
       "      <th>lat_destination</th>\n",
       "      <th>long_destination</th>\n",
       "      <th>Jarak</th>\n",
       "      <th>Waktu Tempuh</th>\n",
       "      <th>Waktu Penulisan</th>\n",
       "      <th>Link</th>\n",
       "    </tr>\n",
       "  </thead>\n",
       "  <tbody>\n",
       "    <tr>\n",
       "      <th>count</th>\n",
       "      <td>47616</td>\n",
       "      <td>47616</td>\n",
       "      <td>47616</td>\n",
       "      <td>47616</td>\n",
       "      <td>47616</td>\n",
       "      <td>47616</td>\n",
       "      <td>47616</td>\n",
       "      <td>47616</td>\n",
       "    </tr>\n",
       "    <tr>\n",
       "      <th>unique</th>\n",
       "      <td>24388</td>\n",
       "      <td>24312</td>\n",
       "      <td>24411</td>\n",
       "      <td>24447</td>\n",
       "      <td>947</td>\n",
       "      <td>180</td>\n",
       "      <td>34958</td>\n",
       "      <td>28112</td>\n",
       "    </tr>\n",
       "    <tr>\n",
       "      <th>top</th>\n",
       "      <td>lat_origin</td>\n",
       "      <td>long_origin</td>\n",
       "      <td>lat_destination</td>\n",
       "      <td>long_destination</td>\n",
       "      <td>Jarak</td>\n",
       "      <td>51 mnt</td>\n",
       "      <td>Waktu Penulisan</td>\n",
       "      <td>Link</td>\n",
       "    </tr>\n",
       "    <tr>\n",
       "      <th>freq</th>\n",
       "      <td>234</td>\n",
       "      <td>234</td>\n",
       "      <td>234</td>\n",
       "      <td>234</td>\n",
       "      <td>234</td>\n",
       "      <td>952</td>\n",
       "      <td>234</td>\n",
       "      <td>234</td>\n",
       "    </tr>\n",
       "  </tbody>\n",
       "</table>\n",
       "</div>"
      ],
      "text/plain": [
       "        lat_origin  long_origin  lat_destination  long_destination  Jarak  \\\n",
       "count        47616        47616            47616             47616  47616   \n",
       "unique       24388        24312            24411             24447    947   \n",
       "top     lat_origin  long_origin  lat_destination  long_destination  Jarak   \n",
       "freq           234          234              234               234    234   \n",
       "\n",
       "       Waktu Tempuh  Waktu Penulisan   Link  \n",
       "count         47616            47616  47616  \n",
       "unique          180            34958  28112  \n",
       "top          51 mnt  Waktu Penulisan   Link  \n",
       "freq            952              234    234  "
      ]
     },
     "execution_count": 7,
     "metadata": {},
     "output_type": "execute_result"
    }
   ],
   "source": [
    "random_location_df.describe()"
   ]
  },
  {
   "cell_type": "code",
   "execution_count": 8,
   "id": "4b76051e",
   "metadata": {},
   "outputs": [
    {
     "name": "stdout",
     "output_type": "stream",
     "text": [
      "<class 'pandas.core.frame.DataFrame'>\n",
      "RangeIndex: 47616 entries, 0 to 47615\n",
      "Data columns (total 8 columns):\n",
      " #   Column            Non-Null Count  Dtype \n",
      "---  ------            --------------  ----- \n",
      " 0   lat_origin        47616 non-null  object\n",
      " 1   long_origin       47616 non-null  object\n",
      " 2   lat_destination   47616 non-null  object\n",
      " 3   long_destination  47616 non-null  object\n",
      " 4   Jarak             47616 non-null  object\n",
      " 5   Waktu Tempuh      47616 non-null  object\n",
      " 6   Waktu Penulisan   47616 non-null  object\n",
      " 7   Link              47616 non-null  object\n",
      "dtypes: object(8)\n",
      "memory usage: 2.9+ MB\n"
     ]
    }
   ],
   "source": [
    "random_location_df.info()"
   ]
  },
  {
   "cell_type": "markdown",
   "id": "503f9869",
   "metadata": {},
   "source": [
    "### Data Cleaning"
   ]
  },
  {
   "cell_type": "markdown",
   "id": "f9035aef",
   "metadata": {},
   "source": [
    "#### Change Columns Name"
   ]
  },
  {
   "cell_type": "code",
   "execution_count": 9,
   "id": "552b8221",
   "metadata": {},
   "outputs": [
    {
     "name": "stdout",
     "output_type": "stream",
     "text": [
      "<class 'pandas.core.frame.DataFrame'>\n",
      "RangeIndex: 45901 entries, 0 to 45900\n",
      "Data columns (total 8 columns):\n",
      " #   Column     Non-Null Count  Dtype \n",
      "---  ------     --------------  ----- \n",
      " 0   lat_ori    45901 non-null  object\n",
      " 1   long_ori   45901 non-null  object\n",
      " 2   lat_dest   45901 non-null  object\n",
      " 3   long_dest  45901 non-null  object\n",
      " 4   distance   45901 non-null  object\n",
      " 5   eta        45901 non-null  object\n",
      " 6   timestamp  45901 non-null  object\n",
      " 7   link       45901 non-null  object\n",
      "dtypes: object(8)\n",
      "memory usage: 2.8+ MB\n"
     ]
    }
   ],
   "source": [
    "from_warehouse_df.columns = ['lat_ori', 'long_ori', 'lat_dest', 'long_dest', 'distance', 'eta', 'timestamp', 'link']\n",
    "from_warehouse_df.info()"
   ]
  },
  {
   "cell_type": "code",
   "execution_count": 10,
   "id": "d9f2df23",
   "metadata": {},
   "outputs": [
    {
     "name": "stdout",
     "output_type": "stream",
     "text": [
      "<class 'pandas.core.frame.DataFrame'>\n",
      "RangeIndex: 47616 entries, 0 to 47615\n",
      "Data columns (total 8 columns):\n",
      " #   Column     Non-Null Count  Dtype \n",
      "---  ------     --------------  ----- \n",
      " 0   lat_ori    47616 non-null  object\n",
      " 1   long_ori   47616 non-null  object\n",
      " 2   lat_dest   47616 non-null  object\n",
      " 3   long_dest  47616 non-null  object\n",
      " 4   distance   47616 non-null  object\n",
      " 5   eta        47616 non-null  object\n",
      " 6   timestamp  47616 non-null  object\n",
      " 7   link       47616 non-null  object\n",
      "dtypes: object(8)\n",
      "memory usage: 2.9+ MB\n"
     ]
    }
   ],
   "source": [
    "random_location_df.columns = ['lat_ori', 'long_ori', 'lat_dest', 'long_dest', 'distance', 'eta', 'timestamp', 'link']\n",
    "random_location_df.info()"
   ]
  },
  {
   "cell_type": "markdown",
   "id": "b7b1d07b",
   "metadata": {},
   "source": [
    "#### Remove Unused Columns"
   ]
  },
  {
   "cell_type": "code",
   "execution_count": 11,
   "id": "c3cc5f9c",
   "metadata": {},
   "outputs": [
    {
     "name": "stdout",
     "output_type": "stream",
     "text": [
      "<class 'pandas.core.frame.DataFrame'>\n",
      "RangeIndex: 45901 entries, 0 to 45900\n",
      "Data columns (total 6 columns):\n",
      " #   Column     Non-Null Count  Dtype \n",
      "---  ------     --------------  ----- \n",
      " 0   lat_ori    45901 non-null  object\n",
      " 1   long_ori   45901 non-null  object\n",
      " 2   lat_dest   45901 non-null  object\n",
      " 3   long_dest  45901 non-null  object\n",
      " 4   eta        45901 non-null  object\n",
      " 5   timestamp  45901 non-null  object\n",
      "dtypes: object(6)\n",
      "memory usage: 2.1+ MB\n",
      "<class 'pandas.core.frame.DataFrame'>\n",
      "RangeIndex: 47616 entries, 0 to 47615\n",
      "Data columns (total 6 columns):\n",
      " #   Column     Non-Null Count  Dtype \n",
      "---  ------     --------------  ----- \n",
      " 0   lat_ori    47616 non-null  object\n",
      " 1   long_ori   47616 non-null  object\n",
      " 2   lat_dest   47616 non-null  object\n",
      " 3   long_dest  47616 non-null  object\n",
      " 4   eta        47616 non-null  object\n",
      " 5   timestamp  47616 non-null  object\n",
      "dtypes: object(6)\n",
      "memory usage: 2.2+ MB\n"
     ]
    }
   ],
   "source": [
    "from_warehouse_df.drop('link', axis=1, inplace=True)\n",
    "random_location_df.drop('link', axis=1, inplace=True)\n",
    "from_warehouse_df.drop('distance', axis=1, inplace=True)\n",
    "random_location_df.drop('distance', axis=1, inplace=True)\n",
    "\n",
    "from_warehouse_df.info()\n",
    "random_location_df.info()"
   ]
  },
  {
   "cell_type": "markdown",
   "id": "0e166351",
   "metadata": {},
   "source": [
    "#### Remove Unused Rows"
   ]
  },
  {
   "cell_type": "code",
   "execution_count": 12,
   "id": "89f5c5c1",
   "metadata": {},
   "outputs": [
    {
     "name": "stdout",
     "output_type": "stream",
     "text": [
      "<class 'pandas.core.frame.DataFrame'>\n",
      "Index: 45668 entries, 0 to 45900\n",
      "Data columns (total 6 columns):\n",
      " #   Column     Non-Null Count  Dtype \n",
      "---  ------     --------------  ----- \n",
      " 0   lat_ori    45668 non-null  object\n",
      " 1   long_ori   45668 non-null  object\n",
      " 2   lat_dest   45668 non-null  object\n",
      " 3   long_dest  45668 non-null  object\n",
      " 4   eta        45668 non-null  object\n",
      " 5   timestamp  45668 non-null  object\n",
      "dtypes: object(6)\n",
      "memory usage: 2.4+ MB\n"
     ]
    }
   ],
   "source": [
    "from_warehouse_df = from_warehouse_df[from_warehouse_df.lat_ori != 'lat_origin']\n",
    "from_warehouse_df = from_warehouse_df[from_warehouse_df.long_ori != 'long_origin']\n",
    "from_warehouse_df = from_warehouse_df[from_warehouse_df.lat_dest != 'lat_destination']\n",
    "from_warehouse_df = from_warehouse_df[from_warehouse_df.long_dest != 'long_destination']\n",
    "from_warehouse_df = from_warehouse_df[from_warehouse_df.eta != 'Waktu Tempuh']\n",
    "from_warehouse_df = from_warehouse_df[from_warehouse_df.timestamp != 'Waktu Penulisan']\n",
    "\n",
    "from_warehouse_df.info()"
   ]
  },
  {
   "cell_type": "code",
   "execution_count": 13,
   "id": "929ea1bd",
   "metadata": {},
   "outputs": [
    {
     "name": "stdout",
     "output_type": "stream",
     "text": [
      "<class 'pandas.core.frame.DataFrame'>\n",
      "Index: 47382 entries, 1 to 47615\n",
      "Data columns (total 6 columns):\n",
      " #   Column     Non-Null Count  Dtype \n",
      "---  ------     --------------  ----- \n",
      " 0   lat_ori    47382 non-null  object\n",
      " 1   long_ori   47382 non-null  object\n",
      " 2   lat_dest   47382 non-null  object\n",
      " 3   long_dest  47382 non-null  object\n",
      " 4   eta        47382 non-null  object\n",
      " 5   timestamp  47382 non-null  object\n",
      "dtypes: object(6)\n",
      "memory usage: 2.5+ MB\n"
     ]
    }
   ],
   "source": [
    "random_location_df = random_location_df[random_location_df.lat_ori != 'lat_origin']\n",
    "random_location_df = random_location_df[random_location_df.long_ori != 'long_origin']\n",
    "random_location_df = random_location_df[random_location_df.lat_dest != 'lat_destination']\n",
    "random_location_df = random_location_df[random_location_df.long_dest != 'long_destination']\n",
    "random_location_df = random_location_df[random_location_df.eta != 'Waktu Tempuh']\n",
    "random_location_df = random_location_df[random_location_df.timestamp != 'Waktu Penulisan']\n",
    "\n",
    "random_location_df.info()"
   ]
  },
  {
   "cell_type": "markdown",
   "id": "ddfe4eaa",
   "metadata": {},
   "source": [
    "#### Change the Data Types"
   ]
  },
  {
   "cell_type": "code",
   "execution_count": 14,
   "id": "f3fae54f",
   "metadata": {},
   "outputs": [
    {
     "name": "stdout",
     "output_type": "stream",
     "text": [
      "<class 'pandas.core.frame.DataFrame'>\n",
      "Index: 45668 entries, 0 to 45900\n",
      "Data columns (total 6 columns):\n",
      " #   Column     Non-Null Count  Dtype  \n",
      "---  ------     --------------  -----  \n",
      " 0   lat_ori    45668 non-null  float64\n",
      " 1   long_ori   45668 non-null  float64\n",
      " 2   lat_dest   45668 non-null  float64\n",
      " 3   long_dest  45668 non-null  float64\n",
      " 4   eta        45668 non-null  object \n",
      " 5   timestamp  45668 non-null  object \n",
      "dtypes: float64(4), object(2)\n",
      "memory usage: 2.4+ MB\n"
     ]
    }
   ],
   "source": [
    "from_warehouse_df.lat_ori = pd.to_numeric(from_warehouse_df.lat_ori)\n",
    "from_warehouse_df.long_ori = pd.to_numeric(from_warehouse_df.long_ori)\n",
    "from_warehouse_df.lat_dest = pd.to_numeric(from_warehouse_df.lat_dest)\n",
    "from_warehouse_df.long_dest = pd.to_numeric(from_warehouse_df.long_dest)\n",
    "\n",
    "from_warehouse_df.info()"
   ]
  },
  {
   "cell_type": "code",
   "execution_count": 15,
   "id": "dc9aed4c",
   "metadata": {},
   "outputs": [
    {
     "name": "stdout",
     "output_type": "stream",
     "text": [
      "<class 'pandas.core.frame.DataFrame'>\n",
      "Index: 47382 entries, 1 to 47615\n",
      "Data columns (total 6 columns):\n",
      " #   Column     Non-Null Count  Dtype  \n",
      "---  ------     --------------  -----  \n",
      " 0   lat_ori    47382 non-null  float64\n",
      " 1   long_ori   47382 non-null  float64\n",
      " 2   lat_dest   47382 non-null  float64\n",
      " 3   long_dest  47382 non-null  float64\n",
      " 4   eta        47382 non-null  object \n",
      " 5   timestamp  47382 non-null  object \n",
      "dtypes: float64(4), object(2)\n",
      "memory usage: 2.5+ MB\n"
     ]
    }
   ],
   "source": [
    "random_location_df.lat_ori = pd.to_numeric(random_location_df.lat_ori)\n",
    "random_location_df.long_ori = pd.to_numeric(random_location_df.long_ori)\n",
    "random_location_df.lat_dest = pd.to_numeric(random_location_df.lat_dest)\n",
    "random_location_df.long_dest = pd.to_numeric(random_location_df.long_dest)\n",
    "\n",
    "random_location_df.info()"
   ]
  },
  {
   "cell_type": "code",
   "execution_count": null,
   "id": "46a5ea4f",
   "metadata": {},
   "outputs": [],
   "source": [
    "# Convert duration to seconds\n",
    "def convert_to_seconds(duration):\n",
    "    total_minutes = 0\n",
    "    parts = duration.split()\n",
    "    \n",
    "    for i in range(len(parts)):\n",
    "        if 'jam' in parts[i]:\n",
    "            total_minutes += int(parts[i - 1]) * 3600\n",
    "        elif 'mnt' in parts[i]:\n",
    "            total_minutes += int(parts[i - 1]) * 60\n",
    "            \n",
    "    return total_minutes"
   ]
  },
  {
   "cell_type": "code",
   "execution_count": 19,
   "id": "b590edcb",
   "metadata": {},
   "outputs": [
    {
     "name": "stdout",
     "output_type": "stream",
     "text": [
      "<class 'pandas.core.frame.DataFrame'>\n",
      "Index: 45668 entries, 0 to 45900\n",
      "Data columns (total 6 columns):\n",
      " #   Column     Non-Null Count  Dtype  \n",
      "---  ------     --------------  -----  \n",
      " 0   lat_ori    45668 non-null  float64\n",
      " 1   long_ori   45668 non-null  float64\n",
      " 2   lat_dest   45668 non-null  float64\n",
      " 3   long_dest  45668 non-null  float64\n",
      " 4   eta        45668 non-null  int64  \n",
      " 5   timestamp  45668 non-null  object \n",
      "dtypes: float64(4), int64(1), object(1)\n",
      "memory usage: 2.4+ MB\n",
      "<class 'pandas.core.frame.DataFrame'>\n",
      "Index: 47382 entries, 1 to 47615\n",
      "Data columns (total 6 columns):\n",
      " #   Column     Non-Null Count  Dtype  \n",
      "---  ------     --------------  -----  \n",
      " 0   lat_ori    47382 non-null  float64\n",
      " 1   long_ori   47382 non-null  float64\n",
      " 2   lat_dest   47382 non-null  float64\n",
      " 3   long_dest  47382 non-null  float64\n",
      " 4   eta        47382 non-null  int64  \n",
      " 5   timestamp  47382 non-null  object \n",
      "dtypes: float64(4), int64(1), object(1)\n",
      "memory usage: 2.5+ MB\n"
     ]
    }
   ],
   "source": [
    "from_warehouse_df.eta = from_warehouse_df.eta.apply(convert_to_seconds)\n",
    "random_location_df.eta = random_location_df.eta.apply(convert_to_seconds)\n",
    "\n",
    "from_warehouse_df.eta = pd.to_numeric(from_warehouse_df.eta)\n",
    "random_location_df.eta = pd.to_numeric(random_location_df.eta)\n",
    "\n",
    "from_warehouse_df.info()\n",
    "random_location_df.info()"
   ]
  },
  {
   "cell_type": "code",
   "execution_count": null,
   "id": "e069625f",
   "metadata": {},
   "outputs": [
    {
     "name": "stdout",
     "output_type": "stream",
     "text": [
      "<class 'pandas.core.frame.DataFrame'>\n",
      "Index: 45668 entries, 0 to 45900\n",
      "Data columns (total 6 columns):\n",
      " #   Column     Non-Null Count  Dtype  \n",
      "---  ------     --------------  -----  \n",
      " 0   lat_ori    45668 non-null  float64\n",
      " 1   long_ori   45668 non-null  float64\n",
      " 2   lat_dest   45668 non-null  float64\n",
      " 3   long_dest  45668 non-null  float64\n",
      " 4   eta        45668 non-null  int64  \n",
      " 5   timestamp  45668 non-null  int32  \n",
      "dtypes: float64(4), int32(1), int64(1)\n",
      "memory usage: 2.3 MB\n",
      "<class 'pandas.core.frame.DataFrame'>\n",
      "Index: 47382 entries, 1 to 47615\n",
      "Data columns (total 6 columns):\n",
      " #   Column     Non-Null Count  Dtype  \n",
      "---  ------     --------------  -----  \n",
      " 0   lat_ori    47382 non-null  float64\n",
      " 1   long_ori   47382 non-null  float64\n",
      " 2   lat_dest   47382 non-null  float64\n",
      " 3   long_dest  47382 non-null  float64\n",
      " 4   eta        47382 non-null  int64  \n",
      " 5   timestamp  47382 non-null  int32  \n",
      "dtypes: float64(4), int32(1), int64(1)\n",
      "memory usage: 2.3 MB\n"
     ]
    }
   ],
   "source": [
    "# Convert timestamp to hour format\n",
    "from_warehouse_df.timestamp = pd.to_datetime(from_warehouse_df.timestamp, format='%Y-%m-%d %H:%M:%S')\n",
    "random_location_df.timestamp = pd.to_datetime(random_location_df.timestamp, format='%Y-%m-%d %H:%M:%S')\n",
    "\n",
    "from_warehouse_df['timestamp'] = (from_warehouse_df['timestamp'].dt.hour)\n",
    "\n",
    "random_location_df['timestamp'] = (random_location_df['timestamp'].dt.hour)\n",
    "\n",
    "from_warehouse_df.info()\n",
    "random_location_df.info()"
   ]
  },
  {
   "cell_type": "markdown",
   "id": "454ec6bd",
   "metadata": {},
   "source": [
    "## Model Development"
   ]
  },
  {
   "cell_type": "markdown",
   "id": "899d4739",
   "metadata": {},
   "source": [
    "### Prepare the Feature and Target Datasets"
   ]
  },
  {
   "cell_type": "code",
   "execution_count": null,
   "id": "ce12021a",
   "metadata": {},
   "outputs": [
    {
     "name": "stdout",
     "output_type": "stream",
     "text": [
      "<class 'pandas.core.frame.DataFrame'>\n",
      "RangeIndex: 93050 entries, 0 to 93049\n",
      "Data columns (total 6 columns):\n",
      " #   Column     Non-Null Count  Dtype  \n",
      "---  ------     --------------  -----  \n",
      " 0   lat_ori    93050 non-null  float64\n",
      " 1   long_ori   93050 non-null  float64\n",
      " 2   lat_dest   93050 non-null  float64\n",
      " 3   long_dest  93050 non-null  float64\n",
      " 4   eta        93050 non-null  int64  \n",
      " 5   timestamp  93050 non-null  int32  \n",
      "dtypes: float64(4), int32(1), int64(1)\n",
      "memory usage: 3.9 MB\n"
     ]
    }
   ],
   "source": [
    "df = pd.concat([from_warehouse_df, random_location_df], ignore_index=True)\n",
    "df.info()\n",
    "\n",
    "df.to_csv('../Datasets/all_data_v2.csv', index=False)"
   ]
  },
  {
   "cell_type": "markdown",
   "id": "cef32281",
   "metadata": {},
   "source": [
    "#### Split the Dataset into Training and Testing"
   ]
  },
  {
   "cell_type": "code",
   "execution_count": 23,
   "id": "1af8cf73",
   "metadata": {},
   "outputs": [
    {
     "name": "stdout",
     "output_type": "stream",
     "text": [
      "<class 'pandas.core.frame.DataFrame'>\n",
      "Index: 74440 entries, 61894 to 15795\n",
      "Data columns (total 5 columns):\n",
      " #   Column     Non-Null Count  Dtype  \n",
      "---  ------     --------------  -----  \n",
      " 0   lat_ori    74440 non-null  float64\n",
      " 1   long_ori   74440 non-null  float64\n",
      " 2   lat_dest   74440 non-null  float64\n",
      " 3   long_dest  74440 non-null  float64\n",
      " 4   timestamp  74440 non-null  int32  \n",
      "dtypes: float64(4), int32(1)\n",
      "memory usage: 3.1 MB\n",
      "<class 'pandas.core.series.Series'>\n",
      "Index: 74440 entries, 61894 to 15795\n",
      "Series name: eta\n",
      "Non-Null Count  Dtype\n",
      "--------------  -----\n",
      "74440 non-null  int64\n",
      "dtypes: int64(1)\n",
      "memory usage: 1.1 MB\n"
     ]
    }
   ],
   "source": [
    "x_train, x_test, y_train, y_test = train_test_split(df.drop(['eta'], axis=1), df['eta'], test_size=0.2, random_state=42)\n",
    "\n",
    "x_train.info()\n",
    "y_train.info()"
   ]
  },
  {
   "cell_type": "markdown",
   "id": "aca13cfc",
   "metadata": {},
   "source": [
    "#### Model Building"
   ]
  },
  {
   "cell_type": "code",
   "execution_count": 26,
   "id": "f533ceb3",
   "metadata": {},
   "outputs": [
    {
     "name": "stdout",
     "output_type": "stream",
     "text": [
      "Epoch 1/1000\n"
     ]
    },
    {
     "name": "stderr",
     "output_type": "stream",
     "text": [
      "c:\\Users\\mbint\\anaconda3\\envs\\bangkit\\Lib\\site-packages\\keras\\src\\layers\\core\\dense.py:87: UserWarning: Do not pass an `input_shape`/`input_dim` argument to a layer. When using Sequential models, prefer using an `Input(shape)` object as the first layer in the model instead.\n",
      "  super().__init__(activity_regularizer=activity_regularizer, **kwargs)\n"
     ]
    },
    {
     "name": "stdout",
     "output_type": "stream",
     "text": [
      "\u001b[1m1164/1164\u001b[0m \u001b[32m━━━━━━━━━━━━━━━━━━━━\u001b[0m\u001b[37m\u001b[0m \u001b[1m2s\u001b[0m 1ms/step - loss: 0.6205 - val_loss: 0.4443\n",
      "Epoch 2/1000\n",
      "\u001b[1m1164/1164\u001b[0m \u001b[32m━━━━━━━━━━━━━━━━━━━━\u001b[0m\u001b[37m\u001b[0m \u001b[1m1s\u001b[0m 1ms/step - loss: 0.4451 - val_loss: 0.4083\n",
      "Epoch 3/1000\n",
      "\u001b[1m1164/1164\u001b[0m \u001b[32m━━━━━━━━━━━━━━━━━━━━\u001b[0m\u001b[37m\u001b[0m \u001b[1m1s\u001b[0m 1ms/step - loss: 0.4136 - val_loss: 0.3925\n",
      "Epoch 4/1000\n",
      "\u001b[1m1164/1164\u001b[0m \u001b[32m━━━━━━━━━━━━━━━━━━━━\u001b[0m\u001b[37m\u001b[0m \u001b[1m1s\u001b[0m 1ms/step - loss: 0.3998 - val_loss: 0.3797\n",
      "Epoch 5/1000\n",
      "\u001b[1m1164/1164\u001b[0m \u001b[32m━━━━━━━━━━━━━━━━━━━━\u001b[0m\u001b[37m\u001b[0m \u001b[1m1s\u001b[0m 1ms/step - loss: 0.3865 - val_loss: 0.3723\n",
      "Epoch 6/1000\n",
      "\u001b[1m1164/1164\u001b[0m \u001b[32m━━━━━━━━━━━━━━━━━━━━\u001b[0m\u001b[37m\u001b[0m \u001b[1m1s\u001b[0m 1ms/step - loss: 0.3791 - val_loss: 0.3635\n",
      "Epoch 7/1000\n",
      "\u001b[1m1164/1164\u001b[0m \u001b[32m━━━━━━━━━━━━━━━━━━━━\u001b[0m\u001b[37m\u001b[0m \u001b[1m1s\u001b[0m 1ms/step - loss: 0.3710 - val_loss: 0.3638\n",
      "Epoch 8/1000\n",
      "\u001b[1m1164/1164\u001b[0m \u001b[32m━━━━━━━━━━━━━━━━━━━━\u001b[0m\u001b[37m\u001b[0m \u001b[1m1s\u001b[0m 1ms/step - loss: 0.3676 - val_loss: 0.3585\n",
      "Epoch 9/1000\n",
      "\u001b[1m1164/1164\u001b[0m \u001b[32m━━━━━━━━━━━━━━━━━━━━\u001b[0m\u001b[37m\u001b[0m \u001b[1m1s\u001b[0m 984us/step - loss: 0.3608 - val_loss: 0.3592\n",
      "Epoch 10/1000\n",
      "\u001b[1m1164/1164\u001b[0m \u001b[32m━━━━━━━━━━━━━━━━━━━━\u001b[0m\u001b[37m\u001b[0m \u001b[1m1s\u001b[0m 949us/step - loss: 0.3617 - val_loss: 0.3513\n",
      "Epoch 11/1000\n",
      "\u001b[1m1164/1164\u001b[0m \u001b[32m━━━━━━━━━━━━━━━━━━━━\u001b[0m\u001b[37m\u001b[0m \u001b[1m1s\u001b[0m 945us/step - loss: 0.3615 - val_loss: 0.3509\n",
      "Epoch 12/1000\n",
      "\u001b[1m1164/1164\u001b[0m \u001b[32m━━━━━━━━━━━━━━━━━━━━\u001b[0m\u001b[37m\u001b[0m \u001b[1m1s\u001b[0m 951us/step - loss: 0.3553 - val_loss: 0.3485\n",
      "Epoch 13/1000\n",
      "\u001b[1m1164/1164\u001b[0m \u001b[32m━━━━━━━━━━━━━━━━━━━━\u001b[0m\u001b[37m\u001b[0m \u001b[1m1s\u001b[0m 995us/step - loss: 0.3531 - val_loss: 0.3498\n",
      "Epoch 14/1000\n",
      "\u001b[1m1164/1164\u001b[0m \u001b[32m━━━━━━━━━━━━━━━━━━━━\u001b[0m\u001b[37m\u001b[0m \u001b[1m1s\u001b[0m 999us/step - loss: 0.3530 - val_loss: 0.3547\n",
      "Epoch 15/1000\n",
      "\u001b[1m1164/1164\u001b[0m \u001b[32m━━━━━━━━━━━━━━━━━━━━\u001b[0m\u001b[37m\u001b[0m \u001b[1m1s\u001b[0m 963us/step - loss: 0.3517 - val_loss: 0.3432\n",
      "Epoch 16/1000\n",
      "\u001b[1m1164/1164\u001b[0m \u001b[32m━━━━━━━━━━━━━━━━━━━━\u001b[0m\u001b[37m\u001b[0m \u001b[1m1s\u001b[0m 937us/step - loss: 0.3508 - val_loss: 0.3455\n",
      "Epoch 17/1000\n",
      "\u001b[1m1164/1164\u001b[0m \u001b[32m━━━━━━━━━━━━━━━━━━━━\u001b[0m\u001b[37m\u001b[0m \u001b[1m1s\u001b[0m 949us/step - loss: 0.3497 - val_loss: 0.3433\n",
      "Epoch 18/1000\n",
      "\u001b[1m1164/1164\u001b[0m \u001b[32m━━━━━━━━━━━━━━━━━━━━\u001b[0m\u001b[37m\u001b[0m \u001b[1m1s\u001b[0m 919us/step - loss: 0.3475 - val_loss: 0.3416\n",
      "Epoch 19/1000\n",
      "\u001b[1m1164/1164\u001b[0m \u001b[32m━━━━━━━━━━━━━━━━━━━━\u001b[0m\u001b[37m\u001b[0m \u001b[1m1s\u001b[0m 1ms/step - loss: 0.3477 - val_loss: 0.3485\n",
      "Epoch 20/1000\n",
      "\u001b[1m1164/1164\u001b[0m \u001b[32m━━━━━━━━━━━━━━━━━━━━\u001b[0m\u001b[37m\u001b[0m \u001b[1m1s\u001b[0m 1ms/step - loss: 0.3487 - val_loss: 0.3414\n",
      "Epoch 21/1000\n",
      "\u001b[1m1164/1164\u001b[0m \u001b[32m━━━━━━━━━━━━━━━━━━━━\u001b[0m\u001b[37m\u001b[0m \u001b[1m1s\u001b[0m 1ms/step - loss: 0.3470 - val_loss: 0.3418\n",
      "Epoch 22/1000\n",
      "\u001b[1m1164/1164\u001b[0m \u001b[32m━━━━━━━━━━━━━━━━━━━━\u001b[0m\u001b[37m\u001b[0m \u001b[1m1s\u001b[0m 1ms/step - loss: 0.3452 - val_loss: 0.3393\n",
      "Epoch 23/1000\n",
      "\u001b[1m1164/1164\u001b[0m \u001b[32m━━━━━━━━━━━━━━━━━━━━\u001b[0m\u001b[37m\u001b[0m \u001b[1m1s\u001b[0m 993us/step - loss: 0.3478 - val_loss: 0.3424\n",
      "Epoch 24/1000\n",
      "\u001b[1m1164/1164\u001b[0m \u001b[32m━━━━━━━━━━━━━━━━━━━━\u001b[0m\u001b[37m\u001b[0m \u001b[1m1s\u001b[0m 1ms/step - loss: 0.3460 - val_loss: 0.3418\n",
      "Epoch 25/1000\n",
      "\u001b[1m1164/1164\u001b[0m \u001b[32m━━━━━━━━━━━━━━━━━━━━\u001b[0m\u001b[37m\u001b[0m \u001b[1m1s\u001b[0m 1ms/step - loss: 0.3448 - val_loss: 0.3415\n",
      "Epoch 26/1000\n",
      "\u001b[1m1164/1164\u001b[0m \u001b[32m━━━━━━━━━━━━━━━━━━━━\u001b[0m\u001b[37m\u001b[0m \u001b[1m1s\u001b[0m 1ms/step - loss: 0.3460 - val_loss: 0.3411\n",
      "Epoch 27/1000\n",
      "\u001b[1m1164/1164\u001b[0m \u001b[32m━━━━━━━━━━━━━━━━━━━━\u001b[0m\u001b[37m\u001b[0m \u001b[1m1s\u001b[0m 1ms/step - loss: 0.3440 - val_loss: 0.3427\n",
      "Epoch 28/1000\n",
      "\u001b[1m1164/1164\u001b[0m \u001b[32m━━━━━━━━━━━━━━━━━━━━\u001b[0m\u001b[37m\u001b[0m \u001b[1m1s\u001b[0m 1ms/step - loss: 0.3449 - val_loss: 0.3402\n",
      "Epoch 29/1000\n",
      "\u001b[1m1164/1164\u001b[0m \u001b[32m━━━━━━━━━━━━━━━━━━━━\u001b[0m\u001b[37m\u001b[0m \u001b[1m1s\u001b[0m 1ms/step - loss: 0.3449 - val_loss: 0.3391\n",
      "Epoch 30/1000\n",
      "\u001b[1m1164/1164\u001b[0m \u001b[32m━━━━━━━━━━━━━━━━━━━━\u001b[0m\u001b[37m\u001b[0m \u001b[1m1s\u001b[0m 984us/step - loss: 0.3434 - val_loss: 0.3407\n",
      "Epoch 31/1000\n",
      "\u001b[1m1164/1164\u001b[0m \u001b[32m━━━━━━━━━━━━━━━━━━━━\u001b[0m\u001b[37m\u001b[0m \u001b[1m1s\u001b[0m 1ms/step - loss: 0.3447 - val_loss: 0.3366\n",
      "Epoch 32/1000\n",
      "\u001b[1m1164/1164\u001b[0m \u001b[32m━━━━━━━━━━━━━━━━━━━━\u001b[0m\u001b[37m\u001b[0m \u001b[1m1s\u001b[0m 971us/step - loss: 0.3402 - val_loss: 0.3407\n",
      "Epoch 33/1000\n",
      "\u001b[1m1164/1164\u001b[0m \u001b[32m━━━━━━━━━━━━━━━━━━━━\u001b[0m\u001b[37m\u001b[0m \u001b[1m1s\u001b[0m 1ms/step - loss: 0.3445 - val_loss: 0.3367\n",
      "Epoch 34/1000\n",
      "\u001b[1m1164/1164\u001b[0m \u001b[32m━━━━━━━━━━━━━━━━━━━━\u001b[0m\u001b[37m\u001b[0m \u001b[1m1s\u001b[0m 1ms/step - loss: 0.3441 - val_loss: 0.3367\n",
      "Epoch 35/1000\n",
      "\u001b[1m1164/1164\u001b[0m \u001b[32m━━━━━━━━━━━━━━━━━━━━\u001b[0m\u001b[37m\u001b[0m \u001b[1m1s\u001b[0m 1ms/step - loss: 0.3426 - val_loss: 0.3432\n",
      "Epoch 36/1000\n",
      "\u001b[1m1164/1164\u001b[0m \u001b[32m━━━━━━━━━━━━━━━━━━━━\u001b[0m\u001b[37m\u001b[0m \u001b[1m1s\u001b[0m 1ms/step - loss: 0.3448 - val_loss: 0.3390\n",
      "Epoch 37/1000\n",
      "\u001b[1m1164/1164\u001b[0m \u001b[32m━━━━━━━━━━━━━━━━━━━━\u001b[0m\u001b[37m\u001b[0m \u001b[1m1s\u001b[0m 1ms/step - loss: 0.3412 - val_loss: 0.3385\n",
      "Epoch 38/1000\n",
      "\u001b[1m1164/1164\u001b[0m \u001b[32m━━━━━━━━━━━━━━━━━━━━\u001b[0m\u001b[37m\u001b[0m \u001b[1m1s\u001b[0m 1ms/step - loss: 0.3401 - val_loss: 0.3395\n",
      "Epoch 39/1000\n",
      "\u001b[1m1164/1164\u001b[0m \u001b[32m━━━━━━━━━━━━━━━━━━━━\u001b[0m\u001b[37m\u001b[0m \u001b[1m1s\u001b[0m 1ms/step - loss: 0.3420 - val_loss: 0.3337\n",
      "Epoch 40/1000\n",
      "\u001b[1m1164/1164\u001b[0m \u001b[32m━━━━━━━━━━━━━━━━━━━━\u001b[0m\u001b[37m\u001b[0m \u001b[1m1s\u001b[0m 1ms/step - loss: 0.3414 - val_loss: 0.3361\n",
      "Epoch 41/1000\n",
      "\u001b[1m1164/1164\u001b[0m \u001b[32m━━━━━━━━━━━━━━━━━━━━\u001b[0m\u001b[37m\u001b[0m \u001b[1m1s\u001b[0m 956us/step - loss: 0.3407 - val_loss: 0.3337\n",
      "Epoch 42/1000\n",
      "\u001b[1m1164/1164\u001b[0m \u001b[32m━━━━━━━━━━━━━━━━━━━━\u001b[0m\u001b[37m\u001b[0m \u001b[1m1s\u001b[0m 1ms/step - loss: 0.3396 - val_loss: 0.3376\n",
      "Epoch 43/1000\n",
      "\u001b[1m1164/1164\u001b[0m \u001b[32m━━━━━━━━━━━━━━━━━━━━\u001b[0m\u001b[37m\u001b[0m \u001b[1m1s\u001b[0m 967us/step - loss: 0.3413 - val_loss: 0.3325\n",
      "Epoch 44/1000\n",
      "\u001b[1m1164/1164\u001b[0m \u001b[32m━━━━━━━━━━━━━━━━━━━━\u001b[0m\u001b[37m\u001b[0m \u001b[1m1s\u001b[0m 1ms/step - loss: 0.3388 - val_loss: 0.3333\n",
      "Epoch 45/1000\n",
      "\u001b[1m1164/1164\u001b[0m \u001b[32m━━━━━━━━━━━━━━━━━━━━\u001b[0m\u001b[37m\u001b[0m \u001b[1m1s\u001b[0m 1ms/step - loss: 0.3414 - val_loss: 0.3348\n",
      "Epoch 46/1000\n",
      "\u001b[1m1164/1164\u001b[0m \u001b[32m━━━━━━━━━━━━━━━━━━━━\u001b[0m\u001b[37m\u001b[0m \u001b[1m1s\u001b[0m 988us/step - loss: 0.3420 - val_loss: 0.3323\n",
      "Epoch 47/1000\n",
      "\u001b[1m1164/1164\u001b[0m \u001b[32m━━━━━━━━━━━━━━━━━━━━\u001b[0m\u001b[37m\u001b[0m \u001b[1m1s\u001b[0m 1ms/step - loss: 0.3411 - val_loss: 0.3358\n",
      "Epoch 48/1000\n",
      "\u001b[1m1164/1164\u001b[0m \u001b[32m━━━━━━━━━━━━━━━━━━━━\u001b[0m\u001b[37m\u001b[0m \u001b[1m1s\u001b[0m 1ms/step - loss: 0.3405 - val_loss: 0.3415\n",
      "Epoch 49/1000\n",
      "\u001b[1m1164/1164\u001b[0m \u001b[32m━━━━━━━━━━━━━━━━━━━━\u001b[0m\u001b[37m\u001b[0m \u001b[1m1s\u001b[0m 1ms/step - loss: 0.3389 - val_loss: 0.3377\n",
      "Epoch 50/1000\n",
      "\u001b[1m1164/1164\u001b[0m \u001b[32m━━━━━━━━━━━━━━━━━━━━\u001b[0m\u001b[37m\u001b[0m \u001b[1m2s\u001b[0m 1ms/step - loss: 0.3398 - val_loss: 0.3342\n",
      "Epoch 51/1000\n",
      "\u001b[1m1164/1164\u001b[0m \u001b[32m━━━━━━━━━━━━━━━━━━━━\u001b[0m\u001b[37m\u001b[0m \u001b[1m2s\u001b[0m 1ms/step - loss: 0.3403 - val_loss: 0.3348\n",
      "Epoch 52/1000\n",
      "\u001b[1m1164/1164\u001b[0m \u001b[32m━━━━━━━━━━━━━━━━━━━━\u001b[0m\u001b[37m\u001b[0m \u001b[1m2s\u001b[0m 2ms/step - loss: 0.3389 - val_loss: 0.3425\n",
      "Epoch 53/1000\n",
      "\u001b[1m1164/1164\u001b[0m \u001b[32m━━━━━━━━━━━━━━━━━━━━\u001b[0m\u001b[37m\u001b[0m \u001b[1m2s\u001b[0m 2ms/step - loss: 0.3393 - val_loss: 0.3380\n",
      "Epoch 54/1000\n",
      "\u001b[1m1164/1164\u001b[0m \u001b[32m━━━━━━━━━━━━━━━━━━━━\u001b[0m\u001b[37m\u001b[0m \u001b[1m2s\u001b[0m 2ms/step - loss: 0.3380 - val_loss: 0.3354\n",
      "Epoch 55/1000\n",
      "\u001b[1m1164/1164\u001b[0m \u001b[32m━━━━━━━━━━━━━━━━━━━━\u001b[0m\u001b[37m\u001b[0m \u001b[1m2s\u001b[0m 1ms/step - loss: 0.3384 - val_loss: 0.3312\n",
      "Epoch 56/1000\n",
      "\u001b[1m1164/1164\u001b[0m \u001b[32m━━━━━━━━━━━━━━━━━━━━\u001b[0m\u001b[37m\u001b[0m \u001b[1m1s\u001b[0m 1ms/step - loss: 0.3387 - val_loss: 0.3327\n",
      "Epoch 57/1000\n",
      "\u001b[1m1164/1164\u001b[0m \u001b[32m━━━━━━━━━━━━━━━━━━━━\u001b[0m\u001b[37m\u001b[0m \u001b[1m1s\u001b[0m 1ms/step - loss: 0.3394 - val_loss: 0.3376\n",
      "Epoch 58/1000\n",
      "\u001b[1m1164/1164\u001b[0m \u001b[32m━━━━━━━━━━━━━━━━━━━━\u001b[0m\u001b[37m\u001b[0m \u001b[1m2s\u001b[0m 1ms/step - loss: 0.3379 - val_loss: 0.3324\n",
      "Epoch 59/1000\n",
      "\u001b[1m1164/1164\u001b[0m \u001b[32m━━━━━━━━━━━━━━━━━━━━\u001b[0m\u001b[37m\u001b[0m \u001b[1m2s\u001b[0m 1ms/step - loss: 0.3377 - val_loss: 0.3423\n",
      "Epoch 60/1000\n",
      "\u001b[1m1164/1164\u001b[0m \u001b[32m━━━━━━━━━━━━━━━━━━━━\u001b[0m\u001b[37m\u001b[0m \u001b[1m1s\u001b[0m 1ms/step - loss: 0.3385 - val_loss: 0.3432\n",
      "Epoch 61/1000\n",
      "\u001b[1m1164/1164\u001b[0m \u001b[32m━━━━━━━━━━━━━━━━━━━━\u001b[0m\u001b[37m\u001b[0m \u001b[1m2s\u001b[0m 1ms/step - loss: 0.3407 - val_loss: 0.3419\n",
      "Epoch 62/1000\n",
      "\u001b[1m1164/1164\u001b[0m \u001b[32m━━━━━━━━━━━━━━━━━━━━\u001b[0m\u001b[37m\u001b[0m \u001b[1m1s\u001b[0m 1ms/step - loss: 0.3369 - val_loss: 0.3325\n",
      "Epoch 63/1000\n",
      "\u001b[1m1164/1164\u001b[0m \u001b[32m━━━━━━━━━━━━━━━━━━━━\u001b[0m\u001b[37m\u001b[0m \u001b[1m2s\u001b[0m 1ms/step - loss: 0.3394 - val_loss: 0.3302\n",
      "Epoch 64/1000\n",
      "\u001b[1m1164/1164\u001b[0m \u001b[32m━━━━━━━━━━━━━━━━━━━━\u001b[0m\u001b[37m\u001b[0m \u001b[1m1s\u001b[0m 1ms/step - loss: 0.3383 - val_loss: 0.3334\n",
      "Epoch 65/1000\n",
      "\u001b[1m1164/1164\u001b[0m \u001b[32m━━━━━━━━━━━━━━━━━━━━\u001b[0m\u001b[37m\u001b[0m \u001b[1m1s\u001b[0m 1ms/step - loss: 0.3384 - val_loss: 0.3299\n",
      "Epoch 66/1000\n",
      "\u001b[1m1164/1164\u001b[0m \u001b[32m━━━━━━━━━━━━━━━━━━━━\u001b[0m\u001b[37m\u001b[0m \u001b[1m1s\u001b[0m 1ms/step - loss: 0.3377 - val_loss: 0.3383\n",
      "Epoch 67/1000\n",
      "\u001b[1m1164/1164\u001b[0m \u001b[32m━━━━━━━━━━━━━━━━━━━━\u001b[0m\u001b[37m\u001b[0m \u001b[1m1s\u001b[0m 1ms/step - loss: 0.3377 - val_loss: 0.3429\n",
      "Epoch 68/1000\n",
      "\u001b[1m1164/1164\u001b[0m \u001b[32m━━━━━━━━━━━━━━━━━━━━\u001b[0m\u001b[37m\u001b[0m \u001b[1m1s\u001b[0m 1ms/step - loss: 0.3382 - val_loss: 0.3321\n",
      "Epoch 69/1000\n",
      "\u001b[1m1164/1164\u001b[0m \u001b[32m━━━━━━━━━━━━━━━━━━━━\u001b[0m\u001b[37m\u001b[0m \u001b[1m1s\u001b[0m 1ms/step - loss: 0.3380 - val_loss: 0.3322\n",
      "Epoch 70/1000\n",
      "\u001b[1m1164/1164\u001b[0m \u001b[32m━━━━━━━━━━━━━━━━━━━━\u001b[0m\u001b[37m\u001b[0m \u001b[1m1s\u001b[0m 1ms/step - loss: 0.3391 - val_loss: 0.3362\n",
      "Epoch 71/1000\n",
      "\u001b[1m1164/1164\u001b[0m \u001b[32m━━━━━━━━━━━━━━━━━━━━\u001b[0m\u001b[37m\u001b[0m \u001b[1m1s\u001b[0m 1ms/step - loss: 0.3378 - val_loss: 0.3331\n",
      "Epoch 72/1000\n",
      "\u001b[1m1164/1164\u001b[0m \u001b[32m━━━━━━━━━━━━━━━━━━━━\u001b[0m\u001b[37m\u001b[0m \u001b[1m1s\u001b[0m 1ms/step - loss: 0.3381 - val_loss: 0.3343\n",
      "Epoch 73/1000\n",
      "\u001b[1m1164/1164\u001b[0m \u001b[32m━━━━━━━━━━━━━━━━━━━━\u001b[0m\u001b[37m\u001b[0m \u001b[1m1s\u001b[0m 1ms/step - loss: 0.3369 - val_loss: 0.3333\n",
      "Epoch 74/1000\n",
      "\u001b[1m1164/1164\u001b[0m \u001b[32m━━━━━━━━━━━━━━━━━━━━\u001b[0m\u001b[37m\u001b[0m \u001b[1m1s\u001b[0m 1ms/step - loss: 0.3377 - val_loss: 0.3336\n",
      "Epoch 75/1000\n",
      "\u001b[1m1164/1164\u001b[0m \u001b[32m━━━━━━━━━━━━━━━━━━━━\u001b[0m\u001b[37m\u001b[0m \u001b[1m1s\u001b[0m 1ms/step - loss: 0.3379 - val_loss: 0.3310\n",
      "Epoch 76/1000\n",
      "\u001b[1m1164/1164\u001b[0m \u001b[32m━━━━━━━━━━━━━━━━━━━━\u001b[0m\u001b[37m\u001b[0m \u001b[1m1s\u001b[0m 1ms/step - loss: 0.3391 - val_loss: 0.3357\n",
      "Epoch 77/1000\n",
      "\u001b[1m1164/1164\u001b[0m \u001b[32m━━━━━━━━━━━━━━━━━━━━\u001b[0m\u001b[37m\u001b[0m \u001b[1m1s\u001b[0m 1ms/step - loss: 0.3353 - val_loss: 0.3323\n",
      "Epoch 78/1000\n",
      "\u001b[1m1164/1164\u001b[0m \u001b[32m━━━━━━━━━━━━━━━━━━━━\u001b[0m\u001b[37m\u001b[0m \u001b[1m1s\u001b[0m 1ms/step - loss: 0.3360 - val_loss: 0.3389\n",
      "Epoch 79/1000\n",
      "\u001b[1m1164/1164\u001b[0m \u001b[32m━━━━━━━━━━━━━━━━━━━━\u001b[0m\u001b[37m\u001b[0m \u001b[1m1s\u001b[0m 1ms/step - loss: 0.3392 - val_loss: 0.3368\n",
      "Epoch 80/1000\n",
      "\u001b[1m1164/1164\u001b[0m \u001b[32m━━━━━━━━━━━━━━━━━━━━\u001b[0m\u001b[37m\u001b[0m \u001b[1m1s\u001b[0m 1ms/step - loss: 0.3370 - val_loss: 0.3380\n",
      "Epoch 81/1000\n",
      "\u001b[1m1164/1164\u001b[0m \u001b[32m━━━━━━━━━━━━━━━━━━━━\u001b[0m\u001b[37m\u001b[0m \u001b[1m1s\u001b[0m 1ms/step - loss: 0.3370 - val_loss: 0.3331\n",
      "Epoch 82/1000\n",
      "\u001b[1m1164/1164\u001b[0m \u001b[32m━━━━━━━━━━━━━━━━━━━━\u001b[0m\u001b[37m\u001b[0m \u001b[1m1s\u001b[0m 970us/step - loss: 0.3376 - val_loss: 0.3346\n",
      "Epoch 83/1000\n",
      "\u001b[1m1164/1164\u001b[0m \u001b[32m━━━━━━━━━━━━━━━━━━━━\u001b[0m\u001b[37m\u001b[0m \u001b[1m1s\u001b[0m 981us/step - loss: 0.3356 - val_loss: 0.3331\n",
      "Epoch 84/1000\n",
      "\u001b[1m1164/1164\u001b[0m \u001b[32m━━━━━━━━━━━━━━━━━━━━\u001b[0m\u001b[37m\u001b[0m \u001b[1m1s\u001b[0m 991us/step - loss: 0.3367 - val_loss: 0.3307\n",
      "Epoch 85/1000\n",
      "\u001b[1m1164/1164\u001b[0m \u001b[32m━━━━━━━━━━━━━━━━━━━━\u001b[0m\u001b[37m\u001b[0m \u001b[1m1s\u001b[0m 979us/step - loss: 0.3362 - val_loss: 0.3302\n"
     ]
    }
   ],
   "source": [
    "# Scaling X (fit & transform for training, transform only for testing)\n",
    "scaler = StandardScaler()\n",
    "x_train_scaled = scaler.fit_transform(x_train)\n",
    "x_test_scaled = scaler.transform(x_test)\n",
    "\n",
    "# Scaling Y (target)\n",
    "y_scaler = StandardScaler()\n",
    "y_train_scaled = y_scaler.fit_transform(y_train.to_numpy().reshape(-1, 1)).flatten()\n",
    "y_test_scaled = y_scaler.transform(y_test.to_numpy().reshape(-1, 1)).flatten()\n",
    "\n",
    "# Build the model\n",
    "model = tf.keras.Sequential([\n",
    "    tf.keras.layers.Dense(128, activation='relu', kernel_regularizer=tf.keras.regularizers.l2(0.001), input_shape=(x_train_scaled.shape[1],)),\n",
    "    tf.keras.layers.Dense(64, activation='relu', kernel_regularizer=tf.keras.regularizers.l2(0.001)),\n",
    "    tf.keras.layers.Dropout(0.2),\n",
    "    tf.keras.layers.Dense(32, activation='relu', kernel_regularizer=tf.keras.regularizers.l2(0.001)),\n",
    "    tf.keras.layers.Dense(1)\n",
    "])\n",
    "\n",
    "# Compile the model\n",
    "optimizer = tf.keras.optimizers.Adam(learning_rate=0.0005)\n",
    "model.compile(optimizer=optimizer, loss='mae')\n",
    "\n",
    "# Train the model with early stopping\n",
    "history = model.fit(\n",
    "    x_train_scaled, y_train_scaled,\n",
    "    epochs=1000,\n",
    "    batch_size=64,\n",
    "    verbose=1,\n",
    "    validation_data=(x_test_scaled, y_test_scaled),\n",
    "    callbacks=[tf.keras.callbacks.EarlyStopping(monitor='val_loss', patience=20, restore_best_weights=True)]\n",
    ")"
   ]
  },
  {
   "cell_type": "markdown",
   "id": "a2a47cc2",
   "metadata": {},
   "source": [
    "#### Test the Model"
   ]
  },
  {
   "cell_type": "code",
   "execution_count": null,
   "id": "71c78146",
   "metadata": {},
   "outputs": [
    {
     "name": "stdout",
     "output_type": "stream",
     "text": [
      "\u001b[1m582/582\u001b[0m \u001b[32m━━━━━━━━━━━━━━━━━━━━\u001b[0m\u001b[37m\u001b[0m \u001b[1m1s\u001b[0m 725us/step\n",
      "MAE on actual scale: 391.81\n"
     ]
    }
   ],
   "source": [
    "# Predict and inverse transform to original scale\n",
    "y_pred_scaled = model.predict(x_test_scaled)\n",
    "y_pred = y_scaler.inverse_transform(y_pred_scaled)\n",
    "\n",
    "# Optional: convert y_test back to array for evaluation/plotting\n",
    "y_test_actual = y_test.to_numpy()\n",
    "\n",
    "from sklearn.metrics import mean_absolute_error\n",
    "mae = mean_absolute_error(y_test_actual, y_pred)\n",
    "print(f\"MAE on actual scale: {mae:.2f} seconds\")"
   ]
  },
  {
   "cell_type": "markdown",
   "id": "271bdb6a",
   "metadata": {},
   "source": [
    "#### Evaluate Actual vs Predicted Values"
   ]
  },
  {
   "cell_type": "code",
   "execution_count": 28,
   "id": "c573a1ba",
   "metadata": {},
   "outputs": [
    {
     "data": {
      "image/png": "[encoded data removed]",
      "text/plain": [
       "<Figure size 1000x500 with 1 Axes>"
      ]
     },
     "metadata": {},
     "output_type": "display_data"
    }
   ],
   "source": [
    "import matplotlib.pyplot as plt\n",
    "\n",
    "plt.figure(figsize=(10,5))\n",
    "plt.plot(y_test_actual[:500], label='Actual')\n",
    "plt.plot(y_pred[:500], label='Predicted')\n",
    "plt.legend()\n",
    "plt.title('Actual vs Predicted (First 100 Samples)')\n",
    "plt.xlabel('Sample Index')\n",
    "plt.ylabel('Target Value')\n",
    "plt.grid(True)\n",
    "plt.show()"
   ]
  },
  {
   "cell_type": "markdown",
   "id": "2b9c8a5f",
   "metadata": {},
   "source": [
    "#### Test the model on sample data"
   ]
  },
  {
   "cell_type": "code",
   "execution_count": 30,
   "id": "404fd1a4",
   "metadata": {},
   "outputs": [
    {
     "name": "stdout",
     "output_type": "stream",
     "text": [
      "\u001b[1m1/1\u001b[0m \u001b[32m━━━━━━━━━━━━━━━━━━━━\u001b[0m\u001b[37m\u001b[0m \u001b[1m0s\u001b[0m 25ms/step\n",
      "Predicted value (actual scale): 148740.48\n"
     ]
    }
   ],
   "source": [
    "sample_input = np.array([-6.210685, 106.645652, -6.107215, 106.620594, 19])\n",
    "\n",
    "# Pastikan input jadi 2D array\n",
    "sample_input = sample_input.reshape(1, -1)\n",
    "\n",
    "# Prediksi (output masih dalam skala scaled target)\n",
    "pred_scaled = model.predict(sample_input)\n",
    "\n",
    "# Ubah ke skala asli\n",
    "pred_actual = y_scaler.inverse_transform(pred_scaled)\n",
    "\n",
    "print(\"Predicted value (actual scale):\", pred_actual[0][0])"
   ]
  }
 ],
 "metadata": {
  "kernelspec": {
   "display_name": "bangkit",
   "language": "python",
   "name": "python3"
  },
  "language_info": {
   "codemirror_mode": {
    "name": "ipython",
    "version": 3
   },
   "file_extension": ".py",
   "mimetype": "text/x-python",
   "name": "python",
   "nbconvert_exporter": "python",
   "pygments_lexer": "ipython3",
   "version": "3.12.4"
  }
 },
 "nbformat": 4,
 "nbformat_minor": 5
}
